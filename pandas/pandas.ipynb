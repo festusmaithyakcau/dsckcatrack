{
 "cells": [
  {
   "attachments": {},
   "cell_type": "markdown",
   "metadata": {},
   "source": [
    "PANDAS\n",
    "\n",
    "• It is a package useful for data analysis and manipulation.\n",
    "\n",
    "• Pandas provide an easy way to create, manipulate and wrangle the data.\n"
   ]
  },
  {
   "attachments": {},
   "cell_type": "markdown",
   "metadata": {},
   "source": [
    "Data scientists use Pandas for its following advantages:\n",
    "\n",
    "• Easily handles missing data.\n",
    "\n",
    "• It uses Series for one-dimensional data structure and DataFrame \n",
    "\n",
    "for multi-dimensional data structure.\n",
    "\n",
    "• It provides an efficient way to slice the data.\n",
    "\n",
    "• It provides a flexible way to merge, concatenate or reshape the \n",
    "data.\n"
   ]
  },
  {
   "cell_type": "markdown",
   "metadata": {},
   "source": [
    "DATA STRUCTURES IN PANDAS\n",
    "\n",
    "A data structure is a way to arrange the data in such a way that so it \n",
    "can be accessed quickly and we can perform various operation on this \n",
    "data like- retrieval, deletion, modification etc.\n",
    "\n",
    "Pandas deals with 3 data structure\n",
    "\n",
    "1. Series\n",
    "\n",
    "2. Data Frame\n",
    "\n",
    "3. Panel\n"
   ]
  },
  {
   "attachments": {},
   "cell_type": "markdown",
   "metadata": {},
   "source": [
    "Series-Series is a one-dimensional array like structure with \n",
    "homogeneous data, which can be used to handle and manipulate data. \n",
    "What makes it special is its index attribute, which has incredible \n",
    "functionality and is heavily mutable.\n"
   ]
  },
  {
   "attachments": {},
   "cell_type": "markdown",
   "metadata": {},
   "source": [
    "\n",
    "SYNTAX OF CREATING A SERIES\n",
    "\n",
    "<Series Object>=pandas.Series (data, index=idx (optional))"
   ]
  },
  {
   "cell_type": "code",
   "execution_count": 2,
   "metadata": {},
   "outputs": [
    {
     "name": "stdout",
     "output_type": "stream",
     "text": [
      "Requirement already satisfied: pandas in c:\\users\\hp\\appdata\\local\\programs\\python\\python310\\lib\\site-packages (1.5.1)\n",
      "Requirement already satisfied: python-dateutil>=2.8.1 in c:\\users\\hp\\appdata\\roaming\\python\\python310\\site-packages (from pandas) (2.8.2)\n",
      "Requirement already satisfied: numpy>=1.21.0 in c:\\users\\hp\\appdata\\local\\programs\\python\\python310\\lib\\site-packages (from pandas) (1.23.4)\n",
      "Requirement already satisfied: pytz>=2020.1 in c:\\users\\hp\\appdata\\local\\programs\\python\\python310\\lib\\site-packages (from pandas) (2022.6)\n",
      "Requirement already satisfied: six>=1.5 in c:\\users\\hp\\appdata\\roaming\\python\\python310\\site-packages (from python-dateutil>=2.8.1->pandas) (1.16.0)\n",
      "Note: you may need to restart the kernel to use updated packages.\n"
     ]
    },
    {
     "name": "stderr",
     "output_type": "stream",
     "text": [
      "\n",
      "[notice] A new release of pip available: 22.3 -> 22.3.1\n",
      "[notice] To update, run: python.exe -m pip install --upgrade pip\n"
     ]
    }
   ],
   "source": [
    "pip install pandas"
   ]
  },
  {
   "cell_type": "code",
   "execution_count": 3,
   "metadata": {},
   "outputs": [
    {
     "name": "stdout",
     "output_type": "stream",
     "text": [
      "0    10\n",
      "1    15\n",
      "2    18\n",
      "3    22\n",
      "dtype: int32\n"
     ]
    }
   ],
   "source": [
    "#How to create Series with nd array\n",
    "import pandas as pd\n",
    "import numpy as np\n",
    "arr=np.array([10,15,18,22])\n",
    "s = pd.Series(arr)\n",
    "print(s)\n"
   ]
  },
  {
   "cell_type": "code",
   "execution_count": 4,
   "metadata": {},
   "outputs": [
    {
     "name": "stdout",
     "output_type": "stream",
     "text": [
      "first     a\n",
      "second    b\n",
      "third     c\n",
      "fourth    d\n",
      "dtype: object\n"
     ]
    }
   ],
   "source": [
    "#How to create Series with Mutable index\n",
    "import numpy as np\n",
    "arr=np.array(['a','b','c','d'])\n",
    "s=pd.Series(arr,\n",
    "index=['first','second','third','fourth'])\n",
    "print(s)"
   ]
  },
  {
   "cell_type": "code",
   "execution_count": 5,
   "metadata": {},
   "outputs": [],
   "source": [
    "#Creating a series from Scalar value\n",
    "s=pd.Series(50, index=[0,1,2,3,4])"
   ]
  },
  {
   "cell_type": "code",
   "execution_count": 6,
   "metadata": {},
   "outputs": [
    {
     "name": "stdout",
     "output_type": "stream",
     "text": [
      "name              Festus\n",
      "Age                   20\n",
      "School    KCA University\n",
      "dtype: object\n"
     ]
    }
   ],
   "source": [
    "#Creating a series from a Dictionary\n",
    "d={\"name\":\"Festus\",\"Age\":20,\"School\":\"KCA University\"}\n",
    "s=pd.Series(d)\n",
    "print(s)"
   ]
  },
  {
   "attachments": {},
   "cell_type": "markdown",
   "metadata": {},
   "source": [
    "MATH OPERATIONS ON SERIES"
   ]
  },
  {
   "cell_type": "code",
   "execution_count": 7,
   "metadata": {},
   "outputs": [
    {
     "name": "stdout",
     "output_type": "stream",
     "text": [
      "Multiplying all values in aseries\n",
      "0     2\n",
      "1    46\n",
      "2     6\n",
      "3     8\n",
      "4    10\n",
      "5    12\n",
      "6    14\n",
      "7    16\n",
      "8    18\n",
      "dtype: int64\n",
      "Squares of values in a series\n",
      "0      1\n",
      "1    529\n",
      "2      9\n",
      "3     16\n",
      "4     25\n",
      "5     36\n",
      "6     49\n",
      "7     64\n",
      "8     81\n",
      "dtype: int64\n",
      "Printing all the values in a series greater than a given value\n",
      "1    23\n",
      "2     3\n",
      "3     4\n",
      "4     5\n",
      "5     6\n",
      "6     7\n",
      "7     8\n",
      "8     9\n",
      "dtype: int64\n"
     ]
    }
   ],
   "source": [
    "s=pd.Series([1,23,3,4,5,6,7,8,9])\n",
    "print(\"Multiplying all values in aseries\")\n",
    "print(s*2)\n",
    "print(\"Squares of values in a series\")\n",
    "print(s**2)\n",
    "print(\"Printing all the values in a series greater than a given value\")\n",
    "print(s[s>2])"
   ]
  },
  {
   "cell_type": "markdown",
   "metadata": {},
   "source": [
    "HEAD AND  TAIL FUNCTIONS IN SERIES"
   ]
  },
  {
   "cell_type": "code",
   "execution_count": 8,
   "metadata": {},
   "outputs": [
    {
     "name": "stdout",
     "output_type": "stream",
     "text": [
      "=========The first 5 rows==========\n",
      "0    10\n",
      "1    15\n",
      "2    18\n",
      "3    22\n",
      "4    55\n",
      "dtype: int32\n",
      "printing the first three rows\n",
      "0    10\n",
      "1    15\n",
      "2    18\n",
      "dtype: int32\n",
      "=========The last 5 rows===========\n",
      "4    55\n",
      "5    77\n",
      "6    42\n",
      "7    48\n",
      "8    97\n",
      "dtype: int32\n",
      "printing the last three rows\n"
     ]
    }
   ],
   "source": [
    "arr=np.array([10,15,18,22,55,77,42,48,97])\n",
    "s=pd.Series(arr)\n",
    "print(\"=========The first 5 rows==========\")\n",
    "print(s.head())\n",
    "print(\"printing the first three rows\")\n",
    "print(s.head(3))\n",
    "print(\"=========The last 5 rows===========\")\n",
    "print(s.tail())\n",
    "print(\"printing the last three rows\")"
   ]
  },
  {
   "attachments": {},
   "cell_type": "markdown",
   "metadata": {},
   "source": [
    "SELECTION IN SERIES"
   ]
  },
  {
   "cell_type": "code",
   "execution_count": 9,
   "metadata": {},
   "outputs": [
    {
     "name": "stdout",
     "output_type": "stream",
     "text": [
      "0    10\n",
      "1    15\n",
      "2    18\n",
      "3    22\n",
      "4    55\n",
      "5    77\n",
      "dtype: int32\n",
      "0    10\n",
      "1    15\n",
      "2    18\n",
      "dtype: int32\n",
      "3    22\n",
      "4    55\n",
      "dtype: int32\n"
     ]
    }
   ],
   "source": [
    "#Selection using loc index label\n",
    "#Syntax: series_name.loc[StartRange: StopRange]\n",
    "arr=np.array([10,15,18,22,55,77])\n",
    "s=pd.Series(arr)\n",
    "print(s)\n",
    "#To print values from index 0 to 2\n",
    "print(s.loc[:2])\n",
    "#To print values from index 3 to 4\n",
    "print(s.loc[3:4])"
   ]
  },
  {
   "cell_type": "code",
   "execution_count": 10,
   "metadata": {},
   "outputs": [
    {
     "name": "stdout",
     "output_type": "stream",
     "text": [
      "0    10\n",
      "1    15\n",
      "2    18\n",
      "3    22\n",
      "4    55\n",
      "5    77\n",
      "dtype: int32\n",
      "0    10\n",
      "1    15\n",
      "dtype: int32\n",
      "3    22\n",
      "dtype: int32\n"
     ]
    }
   ],
   "source": [
    "#selection using iloc index label\n",
    "#Syntax: series_name.iloc[StartRange : StopRange]\n",
    "arr=np.array([10,15,18,22,55,77])\n",
    "s=pd.Series(arr)\n",
    "print(s)\n",
    "#To print values from Index 0 to 1.\n",
    "print(s.iloc[:2])\n",
    "\n",
    "print(s.iloc[3:4])"
   ]
  },
  {
   "cell_type": "code",
   "execution_count": 11,
   "metadata": {},
   "outputs": [
    {
     "name": "stdout",
     "output_type": "stream",
     "text": [
      "0    10\n",
      "1    15\n",
      "2    18\n",
      "3    22\n",
      "4    55\n",
      "5    77\n",
      "dtype: int32\n",
      "Printing value at index 3\n",
      "3    22\n",
      "dtype: int32\n"
     ]
    }
   ],
   "source": [
    "#Selection using []\n",
    "#Syntax: series_name[StartRange: StopRange] or series_name[ index]\n",
    "arr=np.array([10,15,18,22,55,77])\n",
    "s=pd.Series(arr)\n",
    "print(s)\n",
    "print(\"Printing value at index 3\")\n",
    "print(s[3:4])\n"
   ]
  },
  {
   "cell_type": "markdown",
   "metadata": {},
   "source": [
    "Indexing in Series"
   ]
  },
  {
   "cell_type": "code",
   "execution_count": 14,
   "metadata": {},
   "outputs": [
    {
     "name": "stdout",
     "output_type": "stream",
     "text": [
      "First     a\n",
      "Second    b\n",
      "Third     c\n",
      "Fourth    d\n",
      "dtype: object\n",
      "\n",
      " indexes in Series are :\n",
      "Index(['First', 'Second', 'Third', 'Fourth'], dtype='object')\n"
     ]
    }
   ],
   "source": [
    "array=np.array(['a','b','c','d'])\n",
    "s=pd.Series(array,index=['First','Second','Third','Fourth'])\n",
    "print(s)\n",
    "print('\\n indexes in Series are :')\n",
    "print(s.index)"
   ]
  },
  {
   "attachments": {},
   "cell_type": "markdown",
   "metadata": {},
   "source": [
    "Slicing in Series"
   ]
  },
  {
   "cell_type": "code",
   "execution_count": 21,
   "metadata": {},
   "outputs": [
    {
     "name": "stdout",
     "output_type": "stream",
     "text": [
      "A    10\n",
      "B    15\n",
      "C    18\n",
      "D    22\n",
      "E    55\n",
      "F    77\n",
      "dtype: int32\n",
      "B    15\n",
      "D    22\n",
      "dtype: int32\n",
      "A    10\n",
      "C    18\n",
      "E    55\n",
      "dtype: int32\n"
     ]
    }
   ],
   "source": [
    "arr=np.array([10,15,18,22,55,77])\n",
    "s=pd.Series(arr, index=['A','B','C','D','E','F'])\n",
    "print(s)\n",
    "print(s[1:5:2])\n",
    "print(s[0:6:2])"
   ]
  },
  {
   "attachments": {},
   "cell_type": "markdown",
   "metadata": {},
   "source": [
    "DATAFRAME DATA STRUCTURE"
   ]
  },
  {
   "attachments": {},
   "cell_type": "markdown",
   "metadata": {},
   "source": [
    "-It is a two-dimensional object that is useful in \n",
    "representing data in the form of rows and columns. It is similar to a \n",
    "spreadsheet or an SQL table. This is the most commonly used pandas \n",
    "object. Once we store the data into the Dataframe, we can perform \n",
    "various operations that are useful in analyzing and understanding the \n",
    "data."
   ]
  },
  {
   "attachments": {},
   "cell_type": "markdown",
   "metadata": {},
   "source": [
    "A data frame can be created using any of the following\n",
    "1. Series\n",
    "2. Lists\n",
    "3. Dictionary\n",
    "4. A numpy 2D array"
   ]
  },
  {
   "cell_type": "code",
   "execution_count": 22,
   "metadata": {},
   "outputs": [
    {
     "name": "stdout",
     "output_type": "stream",
     "text": [
      "Empty DataFrame\n",
      "Columns: []\n",
      "Index: []\n"
     ]
    }
   ],
   "source": [
    "#CREATING EMPTY DATAFRAME\n",
    "df=pd.DataFrame()\n",
    "print(df)"
   ]
  },
  {
   "cell_type": "code",
   "execution_count": 23,
   "metadata": {},
   "outputs": [
    {
     "name": "stdout",
     "output_type": "stream",
     "text": [
      "   0\n",
      "0  a\n",
      "1  b\n",
      "2  c\n",
      "3  d\n"
     ]
    }
   ],
   "source": [
    "#CREATING DATAFRAME FROM SERIES\n",
    "s = pd.Series(['a','b','c','d'])\n",
    "df=pd.DataFrame(s)\n",
    "print(df)"
   ]
  },
  {
   "cell_type": "code",
   "execution_count": 24,
   "metadata": {},
   "outputs": [
    {
     "name": "stdout",
     "output_type": "stream",
     "text": [
      "     Name Team\n",
      "0  Hardik   MI\n",
      "1   Virat  RCB\n"
     ]
    }
   ],
   "source": [
    "#CREATING A DATAFRAME FROM A DICTIONARY\n",
    "name=pd.Series(['Hardik','Virat'])\n",
    "team=pd.Series(['MI','RCB'])\n",
    "dic={'Name':name,'Team':team}\n",
    "df=pd.DataFrame(dic)\n",
    "print(df)"
   ]
  },
  {
   "cell_type": "code",
   "execution_count": 25,
   "metadata": {},
   "outputs": [
    {
     "name": "stdout",
     "output_type": "stream",
     "text": [
      "     Name  Sirname\n",
      "0  Sachin  Bhadwaj\n",
      "1   Vinod    Verma\n",
      "2  Rajesh   Mishra\n"
     ]
    }
   ],
   "source": [
    "#DataFrame from List of Dictionaries\n",
    "l=[{'Name':'Sachin','Sirname':'Bhadwaj'},\n",
    "   {'Name':'Vinod','Sirname':'Verma'},\n",
    "   {'Name':'Rajesh','Sirname':'Mishra'}]\n",
    "df=pd.DataFrame(l)\n",
    "print(df)"
   ]
  }
 ],
 "metadata": {
  "kernelspec": {
   "display_name": "Python 3.10.5 64-bit",
   "language": "python",
   "name": "python3"
  },
  "language_info": {
   "codemirror_mode": {
    "name": "ipython",
    "version": 3
   },
   "file_extension": ".py",
   "mimetype": "text/x-python",
   "name": "python",
   "nbconvert_exporter": "python",
   "pygments_lexer": "ipython3",
   "version": "3.10.5"
  },
  "orig_nbformat": 4,
  "vscode": {
   "interpreter": {
    "hash": "a9cff5a362bc38ef45d817ae74b1af54d6a076e3d773891282bce078b815ba34"
   }
  }
 },
 "nbformat": 4,
 "nbformat_minor": 2
}
