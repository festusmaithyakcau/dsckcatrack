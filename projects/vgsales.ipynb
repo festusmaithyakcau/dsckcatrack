{
 "cells": [
  {
   "cell_type": "code",
   "execution_count": 2,
   "metadata": {},
   "outputs": [
    {
     "name": "stdout",
     "output_type": "stream",
     "text": [
      "Requirement already satisfied: pandas in c:\\users\\hp\\anaconda3\\lib\\site-packages (1.4.2)\n",
      "Requirement already satisfied: matplotlib in c:\\users\\hp\\anaconda3\\lib\\site-packages (3.5.1)\n",
      "Requirement already satisfied: seaborn in c:\\users\\hp\\anaconda3\\lib\\site-packages (0.11.2)\n",
      "Requirement already satisfied: numpy in c:\\users\\hp\\anaconda3\\lib\\site-packages (1.21.5)\n",
      "Requirement already satisfied: pytz>=2020.1 in c:\\users\\hp\\anaconda3\\lib\\site-packages (from pandas) (2021.3)\n",
      "Requirement already satisfied: python-dateutil>=2.8.1 in c:\\users\\hp\\anaconda3\\lib\\site-packages (from pandas) (2.8.2)\n",
      "Requirement already satisfied: cycler>=0.10 in c:\\users\\hp\\anaconda3\\lib\\site-packages (from matplotlib) (0.11.0)\n",
      "Requirement already satisfied: fonttools>=4.22.0 in c:\\users\\hp\\anaconda3\\lib\\site-packages (from matplotlib) (4.25.0)\n",
      "Requirement already satisfied: kiwisolver>=1.0.1 in c:\\users\\hp\\anaconda3\\lib\\site-packages (from matplotlib) (1.3.2)\n",
      "Requirement already satisfied: pillow>=6.2.0 in c:\\users\\hp\\anaconda3\\lib\\site-packages (from matplotlib) (9.3.0)\n",
      "Requirement already satisfied: packaging>=20.0 in c:\\users\\hp\\anaconda3\\lib\\site-packages (from matplotlib) (21.3)\n",
      "Requirement already satisfied: pyparsing>=2.2.1 in c:\\users\\hp\\anaconda3\\lib\\site-packages (from matplotlib) (3.0.4)\n",
      "Requirement already satisfied: scipy>=1.0 in c:\\users\\hp\\anaconda3\\lib\\site-packages (from seaborn) (1.7.3)\n",
      "Requirement already satisfied: six>=1.5 in c:\\users\\hp\\anaconda3\\lib\\site-packages (from python-dateutil>=2.8.1->pandas) (1.16.0)\n",
      "Note: you may need to restart the kernel to use updated packages.\n"
     ]
    }
   ],
   "source": [
    "pip install pandas matplotlib seaborn numpy"
   ]
  },
  {
   "cell_type": "code",
   "execution_count": 61,
   "metadata": {},
   "outputs": [],
   "source": [
    "import pandas as pd\n",
    "import matplotlib.pyplot as plt\n",
    "import seaborn as sns\n",
    "import numpy as np"
   ]
  },
  {
   "cell_type": "code",
   "execution_count": 4,
   "metadata": {},
   "outputs": [],
   "source": [
    "df=pd.read_csv(\"dato.csv\")"
   ]
  },
  {
   "cell_type": "code",
   "execution_count": 5,
   "metadata": {},
   "outputs": [
    {
     "data": {
      "text/html": [
       "<div>\n",
       "<style scoped>\n",
       "    .dataframe tbody tr th:only-of-type {\n",
       "        vertical-align: middle;\n",
       "    }\n",
       "\n",
       "    .dataframe tbody tr th {\n",
       "        vertical-align: top;\n",
       "    }\n",
       "\n",
       "    .dataframe thead th {\n",
       "        text-align: right;\n",
       "    }\n",
       "</style>\n",
       "<table border=\"1\" class=\"dataframe\">\n",
       "  <thead>\n",
       "    <tr style=\"text-align: right;\">\n",
       "      <th></th>\n",
       "      <th>Platform</th>\n",
       "      <th>Genre</th>\n",
       "      <th>Publisher</th>\n",
       "      <th>NA_Sales</th>\n",
       "      <th>EU_Sales</th>\n",
       "      <th>JP_Sales</th>\n",
       "      <th>Other_Sales</th>\n",
       "      <th>Global_Sales</th>\n",
       "      <th>Rating</th>\n",
       "      <th>Critic_Score_Class</th>\n",
       "    </tr>\n",
       "  </thead>\n",
       "  <tbody>\n",
       "    <tr>\n",
       "      <th>0</th>\n",
       "      <td>Wii</td>\n",
       "      <td>Sports</td>\n",
       "      <td>Nintendo</td>\n",
       "      <td>41,36</td>\n",
       "      <td>28,96</td>\n",
       "      <td>3,77</td>\n",
       "      <td>8,45</td>\n",
       "      <td>82,54</td>\n",
       "      <td>E</td>\n",
       "      <td>Bueno</td>\n",
       "    </tr>\n",
       "    <tr>\n",
       "      <th>1</th>\n",
       "      <td>Wii</td>\n",
       "      <td>Racing</td>\n",
       "      <td>Nintendo</td>\n",
       "      <td>15,68</td>\n",
       "      <td>12,8</td>\n",
       "      <td>3,79</td>\n",
       "      <td>3,29</td>\n",
       "      <td>35,57</td>\n",
       "      <td>E</td>\n",
       "      <td>Excelente</td>\n",
       "    </tr>\n",
       "    <tr>\n",
       "      <th>2</th>\n",
       "      <td>Wii</td>\n",
       "      <td>Sports</td>\n",
       "      <td>Nintendo</td>\n",
       "      <td>15,61</td>\n",
       "      <td>10,95</td>\n",
       "      <td>3,28</td>\n",
       "      <td>2,95</td>\n",
       "      <td>32,78</td>\n",
       "      <td>E</td>\n",
       "      <td>Excelente</td>\n",
       "    </tr>\n",
       "    <tr>\n",
       "      <th>3</th>\n",
       "      <td>DS</td>\n",
       "      <td>Platform</td>\n",
       "      <td>Nintendo</td>\n",
       "      <td>11,28</td>\n",
       "      <td>9,15</td>\n",
       "      <td>6,5</td>\n",
       "      <td>2,88</td>\n",
       "      <td>29,81</td>\n",
       "      <td>E</td>\n",
       "      <td>Excelente</td>\n",
       "    </tr>\n",
       "    <tr>\n",
       "      <th>4</th>\n",
       "      <td>Wii</td>\n",
       "      <td>Misc</td>\n",
       "      <td>Nintendo</td>\n",
       "      <td>13,96</td>\n",
       "      <td>9,18</td>\n",
       "      <td>2,93</td>\n",
       "      <td>2,84</td>\n",
       "      <td>28,92</td>\n",
       "      <td>E</td>\n",
       "      <td>Malo</td>\n",
       "    </tr>\n",
       "    <tr>\n",
       "      <th>...</th>\n",
       "      <td>...</td>\n",
       "      <td>...</td>\n",
       "      <td>...</td>\n",
       "      <td>...</td>\n",
       "      <td>...</td>\n",
       "      <td>...</td>\n",
       "      <td>...</td>\n",
       "      <td>...</td>\n",
       "      <td>...</td>\n",
       "      <td>...</td>\n",
       "    </tr>\n",
       "    <tr>\n",
       "      <th>7107</th>\n",
       "      <td>PC</td>\n",
       "      <td>Action</td>\n",
       "      <td>Ubisoft</td>\n",
       "      <td>0</td>\n",
       "      <td>0</td>\n",
       "      <td>0</td>\n",
       "      <td>0</td>\n",
       "      <td>0,01</td>\n",
       "      <td>T</td>\n",
       "      <td>Excelente</td>\n",
       "    </tr>\n",
       "    <tr>\n",
       "      <th>7108</th>\n",
       "      <td>PC</td>\n",
       "      <td>Shooter</td>\n",
       "      <td>Midway Games</td>\n",
       "      <td>0</td>\n",
       "      <td>0</td>\n",
       "      <td>0</td>\n",
       "      <td>0</td>\n",
       "      <td>0,01</td>\n",
       "      <td>T</td>\n",
       "      <td>Aceptable</td>\n",
       "    </tr>\n",
       "    <tr>\n",
       "      <th>7109</th>\n",
       "      <td>PC</td>\n",
       "      <td>Sports</td>\n",
       "      <td>Sega</td>\n",
       "      <td>0</td>\n",
       "      <td>0</td>\n",
       "      <td>0</td>\n",
       "      <td>0</td>\n",
       "      <td>0,01</td>\n",
       "      <td>E</td>\n",
       "      <td>Aceptable</td>\n",
       "    </tr>\n",
       "    <tr>\n",
       "      <th>7110</th>\n",
       "      <td>PC</td>\n",
       "      <td>Strategy</td>\n",
       "      <td>Take-Two Interactive</td>\n",
       "      <td>0</td>\n",
       "      <td>0</td>\n",
       "      <td>0</td>\n",
       "      <td>0</td>\n",
       "      <td>0,01</td>\n",
       "      <td>E10+</td>\n",
       "      <td>Aceptable</td>\n",
       "    </tr>\n",
       "    <tr>\n",
       "      <th>7111</th>\n",
       "      <td>PS4</td>\n",
       "      <td>Platform</td>\n",
       "      <td>Team Meat</td>\n",
       "      <td>0</td>\n",
       "      <td>0</td>\n",
       "      <td>0</td>\n",
       "      <td>0</td>\n",
       "      <td>0,01</td>\n",
       "      <td>T</td>\n",
       "      <td>Excelente</td>\n",
       "    </tr>\n",
       "  </tbody>\n",
       "</table>\n",
       "<p>7112 rows × 10 columns</p>\n",
       "</div>"
      ],
      "text/plain": [
       "     Platform     Genre             Publisher NA_Sales EU_Sales JP_Sales  \\\n",
       "0         Wii    Sports              Nintendo    41,36    28,96     3,77   \n",
       "1         Wii    Racing              Nintendo    15,68     12,8     3,79   \n",
       "2         Wii    Sports              Nintendo    15,61    10,95     3,28   \n",
       "3          DS  Platform              Nintendo    11,28     9,15      6,5   \n",
       "4         Wii      Misc              Nintendo    13,96     9,18     2,93   \n",
       "...       ...       ...                   ...      ...      ...      ...   \n",
       "7107       PC    Action               Ubisoft        0        0        0   \n",
       "7108       PC   Shooter          Midway Games        0        0        0   \n",
       "7109       PC    Sports                  Sega        0        0        0   \n",
       "7110       PC  Strategy  Take-Two Interactive        0        0        0   \n",
       "7111      PS4  Platform             Team Meat        0        0        0   \n",
       "\n",
       "     Other_Sales Global_Sales Rating Critic_Score_Class  \n",
       "0           8,45        82,54      E              Bueno  \n",
       "1           3,29        35,57      E          Excelente  \n",
       "2           2,95        32,78      E          Excelente  \n",
       "3           2,88        29,81      E          Excelente  \n",
       "4           2,84        28,92      E               Malo  \n",
       "...          ...          ...    ...                ...  \n",
       "7107           0         0,01      T          Excelente  \n",
       "7108           0         0,01      T          Aceptable  \n",
       "7109           0         0,01      E          Aceptable  \n",
       "7110           0         0,01   E10+          Aceptable  \n",
       "7111           0         0,01      T          Excelente  \n",
       "\n",
       "[7112 rows x 10 columns]"
      ]
     },
     "execution_count": 5,
     "metadata": {},
     "output_type": "execute_result"
    }
   ],
   "source": [
    "df"
   ]
  },
  {
   "cell_type": "code",
   "execution_count": 6,
   "metadata": {},
   "outputs": [
    {
     "data": {
      "text/plain": [
       "<bound method NDFrame.describe of      Platform     Genre             Publisher NA_Sales EU_Sales JP_Sales  \\\n",
       "0         Wii    Sports              Nintendo    41,36    28,96     3,77   \n",
       "1         Wii    Racing              Nintendo    15,68     12,8     3,79   \n",
       "2         Wii    Sports              Nintendo    15,61    10,95     3,28   \n",
       "3          DS  Platform              Nintendo    11,28     9,15      6,5   \n",
       "4         Wii      Misc              Nintendo    13,96     9,18     2,93   \n",
       "...       ...       ...                   ...      ...      ...      ...   \n",
       "7107       PC    Action               Ubisoft        0        0        0   \n",
       "7108       PC   Shooter          Midway Games        0        0        0   \n",
       "7109       PC    Sports                  Sega        0        0        0   \n",
       "7110       PC  Strategy  Take-Two Interactive        0        0        0   \n",
       "7111      PS4  Platform             Team Meat        0        0        0   \n",
       "\n",
       "     Other_Sales Global_Sales Rating Critic_Score_Class  \n",
       "0           8,45        82,54      E              Bueno  \n",
       "1           3,29        35,57      E          Excelente  \n",
       "2           2,95        32,78      E          Excelente  \n",
       "3           2,88        29,81      E          Excelente  \n",
       "4           2,84        28,92      E               Malo  \n",
       "...          ...          ...    ...                ...  \n",
       "7107           0         0,01      T          Excelente  \n",
       "7108           0         0,01      T          Aceptable  \n",
       "7109           0         0,01      E          Aceptable  \n",
       "7110           0         0,01   E10+          Aceptable  \n",
       "7111           0         0,01      T          Excelente  \n",
       "\n",
       "[7112 rows x 10 columns]>"
      ]
     },
     "execution_count": 6,
     "metadata": {},
     "output_type": "execute_result"
    }
   ],
   "source": [
    "df.describe"
   ]
  },
  {
   "cell_type": "code",
   "execution_count": 7,
   "metadata": {},
   "outputs": [
    {
     "data": {
      "text/plain": [
       "Platform                          3DS\n",
       "Genre                          Action\n",
       "Publisher             10TACLE Studios\n",
       "NA_Sales                            0\n",
       "EU_Sales                            0\n",
       "JP_Sales                            0\n",
       "Other_Sales                         0\n",
       "Global_Sales                     0,01\n",
       "Rating                             AO\n",
       "Critic_Score_Class          Aceptable\n",
       "dtype: object"
      ]
     },
     "execution_count": 7,
     "metadata": {},
     "output_type": "execute_result"
    }
   ],
   "source": [
    "df.min()\n"
   ]
  },
  {
   "cell_type": "code",
   "execution_count": 8,
   "metadata": {},
   "outputs": [
    {
     "data": {
      "text/plain": [
       "Platform                              XOne\n",
       "Genre                             Strategy\n",
       "Publisher             inXile Entertainment\n",
       "NA_Sales                              9,73\n",
       "EU_Sales                               9,2\n",
       "JP_Sales                               6,5\n",
       "Other_Sales                           8,45\n",
       "Global_Sales                           9,9\n",
       "Rating                                   T\n",
       "Critic_Score_Class                    Malo\n",
       "dtype: object"
      ]
     },
     "execution_count": 8,
     "metadata": {},
     "output_type": "execute_result"
    }
   ],
   "source": [
    "df.max()\n"
   ]
  },
  {
   "cell_type": "code",
   "execution_count": 9,
   "metadata": {},
   "outputs": [
    {
     "data": {
      "text/plain": [
       "0       82,54\n",
       "1       35,57\n",
       "2       32,78\n",
       "3       29,81\n",
       "4       28,92\n",
       "        ...  \n",
       "7107     0,01\n",
       "7108     0,01\n",
       "7109     0,01\n",
       "7110     0,01\n",
       "7111     0,01\n",
       "Name: Global_Sales, Length: 7112, dtype: object"
      ]
     },
     "execution_count": 9,
     "metadata": {},
     "output_type": "execute_result"
    }
   ],
   "source": [
    "col = df.Global_Sales\n",
    "col\n"
   ]
  },
  {
   "cell_type": "code",
   "execution_count": 10,
   "metadata": {},
   "outputs": [
    {
     "data": {
      "text/plain": [
       "<bound method DataFrame.info of      Platform     Genre             Publisher NA_Sales EU_Sales JP_Sales  \\\n",
       "0         Wii    Sports              Nintendo    41,36    28,96     3,77   \n",
       "1         Wii    Racing              Nintendo    15,68     12,8     3,79   \n",
       "2         Wii    Sports              Nintendo    15,61    10,95     3,28   \n",
       "3          DS  Platform              Nintendo    11,28     9,15      6,5   \n",
       "4         Wii      Misc              Nintendo    13,96     9,18     2,93   \n",
       "...       ...       ...                   ...      ...      ...      ...   \n",
       "7107       PC    Action               Ubisoft        0        0        0   \n",
       "7108       PC   Shooter          Midway Games        0        0        0   \n",
       "7109       PC    Sports                  Sega        0        0        0   \n",
       "7110       PC  Strategy  Take-Two Interactive        0        0        0   \n",
       "7111      PS4  Platform             Team Meat        0        0        0   \n",
       "\n",
       "     Other_Sales Global_Sales Rating Critic_Score_Class  \n",
       "0           8,45        82,54      E              Bueno  \n",
       "1           3,29        35,57      E          Excelente  \n",
       "2           2,95        32,78      E          Excelente  \n",
       "3           2,88        29,81      E          Excelente  \n",
       "4           2,84        28,92      E               Malo  \n",
       "...          ...          ...    ...                ...  \n",
       "7107           0         0,01      T          Excelente  \n",
       "7108           0         0,01      T          Aceptable  \n",
       "7109           0         0,01      E          Aceptable  \n",
       "7110           0         0,01   E10+          Aceptable  \n",
       "7111           0         0,01      T          Excelente  \n",
       "\n",
       "[7112 rows x 10 columns]>"
      ]
     },
     "execution_count": 10,
     "metadata": {},
     "output_type": "execute_result"
    }
   ],
   "source": [
    "df.info"
   ]
  },
  {
   "cell_type": "code",
   "execution_count": 12,
   "metadata": {},
   "outputs": [
    {
     "data": {
      "text/plain": [
       "Platform              0\n",
       "Genre                 0\n",
       "Publisher             0\n",
       "NA_Sales              0\n",
       "EU_Sales              0\n",
       "JP_Sales              0\n",
       "Other_Sales           0\n",
       "Global_Sales          0\n",
       "Rating                0\n",
       "Critic_Score_Class    0\n",
       "dtype: int64"
      ]
     },
     "execution_count": 12,
     "metadata": {},
     "output_type": "execute_result"
    }
   ],
   "source": [
    "df.isnull().sum()"
   ]
  },
  {
   "cell_type": "code",
   "execution_count": 14,
   "metadata": {},
   "outputs": [
    {
     "data": {
      "text/plain": [
       "0       41,36\n",
       "1       15,68\n",
       "2       15,61\n",
       "3       11,28\n",
       "4       13,96\n",
       "        ...  \n",
       "7107        0\n",
       "7108        0\n",
       "7109        0\n",
       "7110        0\n",
       "7111        0\n",
       "Name: NA_Sales, Length: 7112, dtype: object"
      ]
     },
     "execution_count": 14,
     "metadata": {},
     "output_type": "execute_result"
    }
   ],
   "source": [
    "nationalsales=df.NA_Sales[:]\n",
    "nationalsales"
   ]
  },
  {
   "cell_type": "code",
   "execution_count": 15,
   "metadata": {},
   "outputs": [
    {
     "data": {
      "text/plain": [
       "0       82,54\n",
       "1       35,57\n",
       "2       32,78\n",
       "3       29,81\n",
       "4       28,92\n",
       "        ...  \n",
       "7107     0,01\n",
       "7108     0,01\n",
       "7109     0,01\n",
       "7110     0,01\n",
       "7111     0,01\n",
       "Name: Global_Sales, Length: 7112, dtype: object"
      ]
     },
     "execution_count": 15,
     "metadata": {},
     "output_type": "execute_result"
    }
   ],
   "source": [
    "Globalsales=df.Global_Sales\n",
    "Globalsales"
   ]
  },
  {
   "cell_type": "code",
   "execution_count": 16,
   "metadata": {},
   "outputs": [
    {
     "data": {
      "text/plain": [
       "0    82,54\n",
       "1    35,57\n",
       "2    32,78\n",
       "3    29,81\n",
       "4    28,92\n",
       "5    28,38\n",
       "6    23,22\n",
       "7     22,7\n",
       "8    21,86\n",
       "9    21,79\n",
       "Name: Global_Sales, dtype: object"
      ]
     },
     "execution_count": 16,
     "metadata": {},
     "output_type": "execute_result"
    }
   ],
   "source": [
    "Globalsales[:10]"
   ]
  },
  {
   "cell_type": "code",
   "execution_count": 25,
   "metadata": {},
   "outputs": [
    {
     "data": {
      "image/png": "[encoded data removed]",
      "text/plain": [
       "<Figure size 432x288 with 1 Axes>"
      ]
     },
     "metadata": {},
     "output_type": "display_data"
    }
   ],
   "source": [
    "plt.scatter(nationalsales, Globalsales,label=\"NA_sales vs Global_Sales\",color=\"green\")\n",
    "plt.xlabel(\"nationalsales\")\n",
    "plt.ylabel(\"Globalsales\")\n",
    "plt.legend(loc=\"best\")\n",
    "plt.show()"
   ]
  },
  {
   "cell_type": "code",
   "execution_count": 28,
   "metadata": {},
   "outputs": [
    {
     "name": "stdout",
     "output_type": "stream",
     "text": [
      "<class 'pandas.core.series.Series'>\n"
     ]
    }
   ],
   "source": [
    "print(type(nationalsales))"
   ]
  },
  {
   "cell_type": "code",
   "execution_count": 37,
   "metadata": {},
   "outputs": [
    {
     "data": {
      "text/plain": [
       "array(['Nintendo', 'Microsoft Game Studios', 'Take-Two Interactive',\n",
       "       'Sony Computer Entertainment', 'Activision', 'Ubisoft',\n",
       "       'Electronic Arts', 'Bethesda Softworks', 'SquareSoft',\n",
       "       'GT Interactive', 'Konami Digital Entertainment', 'Square Enix',\n",
       "       'Sony Computer Entertainment Europe', 'Virgin Interactive',\n",
       "       'LucasArts', '505 Games', 'Warner Bros. Interactive Entertainment',\n",
       "       'Capcom', 'Universal Interactive', 'RedOctane', 'Atari',\n",
       "       'Eidos Interactive', 'Namco Bandai Games', 'Vivendi Games',\n",
       "       'MTV Games', 'Sega', 'THQ', 'Disney Interactive Studios',\n",
       "       'Acclaim Entertainment', 'Midway Games', 'Deep Silver', 'NCSoft',\n",
       "       'Tecmo Koei', 'Valve Software', 'Infogrames', 'Hello Games',\n",
       "       'Mindscape', 'Valve', 'Global Star', 'Gotham Games',\n",
       "       'Crave Entertainment', 'Hasbro Interactive', 'Codemasters',\n",
       "       'TDK Mediactive', 'Zoo Games', 'Sony Online Entertainment', 'RTL',\n",
       "       'D3Publisher', 'Black Label Games', 'SouthPeak Games',\n",
       "       'Zoo Digital Publishing', 'City Interactive', 'Empire Interactive',\n",
       "       'Atlus', 'Slightly Mad Studios', 'Russel', 'Mastertronic',\n",
       "       'Play It', 'Tomy Corporation', 'Focus Home Interactive',\n",
       "       'Game Factory', 'Titus', 'Marvelous Entertainment', 'Genki',\n",
       "       'TalonSoft', 'SCi', 'Rage Software', 'Ubisoft Annecy',\n",
       "       'Rising Star Games', 'Enix Corporation', 'Level 5', 'Koch Media',\n",
       "       'Square EA', 'Touchstone', 'Nippon Ichi Software',\n",
       "       'Sony Computer Entertainment America', 'Spike',\n",
       "       'Illusion Softworks', 'Interplay', 'Trion Worlds', 'Metro 3D',\n",
       "       'Rondomedia', 'Ghostlight', 'Majesco Entertainment',\n",
       "       'Monster Games', 'Xseed Games', 'PQube', 'Natsume',\n",
       "       'Ignition Entertainment', 'Kadokawa Shoten',\n",
       "       'Harmonix Music Systems', 'Square', 'Gamebridge',\n",
       "       'Midas Interactive Entertainment', 'ASCII Entertainment',\n",
       "       'System 3 Arcade Software', 'Rebellion', 'Activision Blizzard',\n",
       "       'Xplosiv', 'Wanadoo', 'NovaLogic', 'BAM! Entertainment',\n",
       "       'Tetris Online', 'Psygnosis', 'En Masse Entertainment',\n",
       "       'Screenlife', 'GungHo', 'Jester Interactive', 'Black Bean Games',\n",
       "       '3DO', 'Takara Tomy', 'Sammy Corporation', 'Kalypso Media',\n",
       "       'Hudson Soft', 'Marvelous Interactive', 'Arc System Works',\n",
       "       'Home Entertainment Suppliers', 'Banpresto', 'Wargaming.net',\n",
       "       'Destineer', 'Unknown', 'FuRyu', 'Pacific Century Cyber Works',\n",
       "       'PopCap Games', 'Indie Games', 'Nihon Falcom Corporation',\n",
       "       'Gathering of Developers', 'Oxygen Interactive',\n",
       "       'DTP Entertainment', 'Sierra Entertainment', 'Milestone S.r.l.',\n",
       "       'Falcom Corporation', 'Kemco', 'AQ Interactive', 'Telltale Games',\n",
       "       'Agetec', 'XS Games', 'Activision Value', 'Zushi Games', 'CCP',\n",
       "       'Agatsuma Entertainment', 'Compile Heart', 'Mad Catz', 'Gust',\n",
       "       'Media Rings', 'JoWood Productions', 'Mastiff', 'NaturalMotion',\n",
       "       'Brash Entertainment', 'Funcom', 'Jaleco',\n",
       "       'Playlogic Game Factory', 'Human Entertainment', 'Fox Interactive',\n",
       "       '7Sixty LLC', 'Scholastic Inc.', 'System 3', 'Nordic Games',\n",
       "       'Yacht Club Games', 'White Park Bay Software', '506 Games',\n",
       "       'NIS America', 'EA Games', 'Acquire', 'Paradox Interactive',\n",
       "       'Swing! Entertainment', 'Idea Factory', 'Havas Interactive',\n",
       "       'Hip Interactive', 'Tripwire Interactive', 'Enterbrain', 'Sting',\n",
       "       'Funsta', 'Tru Blu Entertainment', 'Bigben Interactive',\n",
       "       'Idea Factory International', 'Moss', 'From Software',\n",
       "       'NDA Productions', 'PM Studios', 'inXile Entertainment', 'O-Games',\n",
       "       'Funbox Media', 'Valcon Games', 'Insomniac Games',\n",
       "       'Bohemia Interactive', 'Aqua Plus', 'Ackkstudios',\n",
       "       'HMH Interactive', 'Cave', 'Microids', 'Phantom EFX',\n",
       "       'Evolved Games', 'Aksys Games', 'O3 Entertainment', 'Aspyr',\n",
       "       'Nobilis', 'Sunsoft', 'DSI Games', 'The Adventure Company',\n",
       "       'Little Orbit', 'Telegames', 'Dusenberry Martin Racing',\n",
       "       'Popcorn Arcade', 'Irem Software Engineering', 'Taito',\n",
       "       'Reef Entertainment', 'Myelin Media', 'Success',\n",
       "       'Rebellion Developments', 'SNK', 'Avalon Interactive',\n",
       "       'Revolution Software', 'Gamecock', 'Groove Games',\n",
       "       'Hudson Entertainment', 'Mercury Games',\n",
       "       'Ascaron Entertainment GmbH', '1C Company',\n",
       "       'Destination Software, Inc', 'Gearbox Software', 'Graffiti',\n",
       "       'Phantagram', 'DreamCatcher Interactive', 'Navarre Corp', 'ESP',\n",
       "       'Team17 Software', 'Gaslamp Games', 'Max Five',\n",
       "       'Conspiracy Entertainment', 'FuRyu Corporation', 'Milestone S.r.l',\n",
       "       'Kool Kizz', 'Monte Christo Multimedia', '5p',\n",
       "       'Alternative Software', 'Cloud Imperium Games Corporation',\n",
       "       'Flashpoint Games', 'Sold Out', 'Introversion Software',\n",
       "       'DHM Interactive', 'Iceberg Interactive', 'Devolver Digital',\n",
       "       'MC2 Entertainment', '2D Boy', 'Global A Entertainment',\n",
       "       'Just Flight', 'bitComposer Games', 'Sunflowers', 'id Software',\n",
       "       'Maxis', 'Pinnacle', 'Xicat Interactive', 'Number None',\n",
       "       'TopWare Interactive', 'Strategy First', 'Stainless Games',\n",
       "       'Lexicon Entertainment', 'GOA', 'Avanquest',\n",
       "       'Graphsim Entertainment', 'Codemasters Online', '10TACLE Studios',\n",
       "       'Visco', 'Crimson Cow', 'Lighthouse Interactive',\n",
       "       'CDV Software Entertainment', 'Encore', 'Blue Byte', 'THQ Nordic',\n",
       "       'NewKidCo', 'Digital Jesters', 'Oovee Game Studios', 'P2 Games',\n",
       "       'G.Rev', 'Milkstone Studios', 'Her Interactive', 'Team Meat'],\n",
       "      dtype=object)"
      ]
     },
     "execution_count": 37,
     "metadata": {},
     "output_type": "execute_result"
    }
   ],
   "source": [
    "df.Publisher.unique()"
   ]
  },
  {
   "cell_type": "code",
   "execution_count": 33,
   "metadata": {},
   "outputs": [
    {
     "data": {
      "text/plain": [
       "298"
      ]
     },
     "execution_count": 33,
     "metadata": {},
     "output_type": "execute_result"
    }
   ],
   "source": [
    "a=df.Publisher.value_counts().Nintendo"
   ]
  },
  {
   "cell_type": "code",
   "execution_count": 34,
   "metadata": {},
   "outputs": [
    {
     "data": {
      "text/plain": [
       "516"
      ]
     },
     "execution_count": 34,
     "metadata": {},
     "output_type": "execute_result"
    }
   ],
   "source": [
    "b=df.Publisher.value_counts().Ubisoft"
   ]
  },
  {
   "cell_type": "code",
   "execution_count": 47,
   "metadata": {},
   "outputs": [
    {
     "data": {
      "text/plain": [
       "9"
      ]
     },
     "execution_count": 47,
     "metadata": {},
     "output_type": "execute_result"
    }
   ],
   "source": [
    "c=df.Publisher.value_counts().SquareSoft\n",
    "c"
   ]
  },
  {
   "cell_type": "code",
   "execution_count": 46,
   "metadata": {},
   "outputs": [
    {
     "data": {
      "text/plain": [
       "600"
      ]
     },
     "execution_count": 46,
     "metadata": {},
     "output_type": "execute_result"
    }
   ],
   "source": [
    "d=df.Genre.value_counts().Racing\n",
    "d"
   ]
  },
  {
   "cell_type": "code",
   "execution_count": 48,
   "metadata": {},
   "outputs": [
    {
     "data": {
      "text/plain": [
       "981"
      ]
     },
     "execution_count": 48,
     "metadata": {},
     "output_type": "execute_result"
    }
   ],
   "source": [
    "e=df.Genre.value_counts().Sports\n",
    "e"
   ]
  },
  {
   "cell_type": "code",
   "execution_count": 51,
   "metadata": {},
   "outputs": [
    {
     "data": {
      "image/png": "[encoded data removed]",
      "text/plain": [
       "<Figure size 360x360 with 1 Axes>"
      ]
     },
     "metadata": {},
     "output_type": "display_data"
    }
   ],
   "source": [
    "Nintendo=df.Publisher.value_counts().Nintendo\n",
    "Ubisoft=df.Publisher.value_counts().Ubisoft\n",
    "SquareSoft=df.Publisher.value_counts().SquareSoft\n",
    "Racing=df.Genre.value_counts().Racing\n",
    "Sports=df.Genre.value_counts().Sports\n",
    "\n",
    "plt.close(\"all\")\n",
    "sizes=[Nintendo,Ubisoft,SquareSoft,Racing,Sports]\n",
    "labels=[\"Nintendo\",\"Ubisoft\",\"SquareSoft\",\"Racing\",\"Sports\"]\n",
    "castout=[0,0,0,.2,.2]\n",
    "plt.figure(figsize=(5,5))\n",
    "plt.pie(sizes, labels=labels,explode=castout, autopct='%.2f %% ')\n",
    "plt.show()"
   ]
  },
  {
   "cell_type": "code",
   "execution_count": 59,
   "metadata": {},
   "outputs": [
    {
     "data": {
      "image/png": "[encoded data removed]",
      "text/plain": [
       "<Figure size 432x288 with 1 Axes>"
      ]
     },
     "metadata": {},
     "output_type": "display_data"
    }
   ],
   "source": [
    "Others=df.Other_Sales\n",
    "plt.scatter(nationalsales,Others, label='National sales vs Other_Sales' ,color=\"blue\")\n",
    "plt.xlabel(\"National Sales\")\n",
    "plt.ylabel(\"Other_Sales\")\n",
    "plt.legend(loc=\"best\")\n",
    "plt.grid()\n",
    "plt.show()"
   ]
  },
  {
   "cell_type": "code",
   "execution_count": 62,
   "metadata": {},
   "outputs": [
    {
     "name": "stdout",
     "output_type": "stream",
     "text": [
      "<class 'matplotlib.axes._subplots.Axes3DSubplot'>\n"
     ]
    },
    {
     "data": {
      "image/png": "[encoded data removed]",
      "text/plain": [
       "<Figure size 432x360 with 1 Axes>"
      ]
     },
     "metadata": {},
     "output_type": "display_data"
    }
   ],
   "source": [
    "sns.set_style(\"darkgrid\")\n",
    "publisherproportion=(b/c)\n",
    "prop = publisherproportion\n",
    "number = 50\n",
    "\n",
    "x1 = np.random.normal(prop, 1, size=number)\n",
    "y1 = np.random.normal(prop, 1, size=number)\n",
    "z1 = np.random.normal(prop, 1, size=number)\n",
    "\n",
    "plt.figure(figsize=(6, 5))\n",
    "axes = plt.axes(projection='3d')\n",
    "print(type(axes))\n",
    "axes.scatter3D(x1, y1, z1, s=100)\n",
    "\n",
    "axes.set_xlabel('x')\n",
    "axes.set_ylabel('y')\n",
    "axes.set_zlabel('z')\n",
    "plt.show()\n"
   ]
  },
  {
   "cell_type": "code",
   "execution_count": null,
   "metadata": {},
   "outputs": [],
   "source": []
  }
 ],
 "metadata": {
  "kernelspec": {
   "display_name": "Python 3 (ipykernel)",
   "language": "python",
   "name": "python3"
  },
  "language_info": {
   "codemirror_mode": {
    "name": "ipython",
    "version": 3
   },
   "file_extension": ".py",
   "mimetype": "text/x-python",
   "name": "python",
   "nbconvert_exporter": "python",
   "pygments_lexer": "ipython3",
   "version": "3.9.12"
  },
  "vscode": {
   "interpreter": {
    "hash": "a9cff5a362bc38ef45d817ae74b1af54d6a076e3d773891282bce078b815ba34"
   }
  }
 },
 "nbformat": 4,
 "nbformat_minor": 2
}
