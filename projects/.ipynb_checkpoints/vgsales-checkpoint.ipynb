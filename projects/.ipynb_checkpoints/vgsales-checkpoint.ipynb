{
 "cells": [
  {
   "cell_type": "code",
   "execution_count": 2,
   "metadata": {},
   "outputs": [
    {
     "name": "stdout",
     "output_type": "stream",
     "text": [
      "Requirement already satisfied: pandas in c:\\users\\hp\\anaconda3\\lib\\site-packages (1.4.2)\n",
      "Requirement already satisfied: matplotlib in c:\\users\\hp\\anaconda3\\lib\\site-packages (3.5.1)\n",
      "Requirement already satisfied: seaborn in c:\\users\\hp\\anaconda3\\lib\\site-packages (0.11.2)\n",
      "Requirement already satisfied: numpy in c:\\users\\hp\\anaconda3\\lib\\site-packages (1.21.5)\n",
      "Requirement already satisfied: pytz>=2020.1 in c:\\users\\hp\\anaconda3\\lib\\site-packages (from pandas) (2021.3)\n",
      "Requirement already satisfied: python-dateutil>=2.8.1 in c:\\users\\hp\\anaconda3\\lib\\site-packages (from pandas) (2.8.2)\n",
      "Requirement already satisfied: cycler>=0.10 in c:\\users\\hp\\anaconda3\\lib\\site-packages (from matplotlib) (0.11.0)\n",
      "Requirement already satisfied: fonttools>=4.22.0 in c:\\users\\hp\\anaconda3\\lib\\site-packages (from matplotlib) (4.25.0)\n",
      "Requirement already satisfied: kiwisolver>=1.0.1 in c:\\users\\hp\\anaconda3\\lib\\site-packages (from matplotlib) (1.3.2)\n",
      "Requirement already satisfied: pillow>=6.2.0 in c:\\users\\hp\\anaconda3\\lib\\site-packages (from matplotlib) (9.3.0)\n",
      "Requirement already satisfied: packaging>=20.0 in c:\\users\\hp\\anaconda3\\lib\\site-packages (from matplotlib) (21.3)\n",
      "Requirement already satisfied: pyparsing>=2.2.1 in c:\\users\\hp\\anaconda3\\lib\\site-packages (from matplotlib) (3.0.4)\n",
      "Requirement already satisfied: scipy>=1.0 in c:\\users\\hp\\anaconda3\\lib\\site-packages (from seaborn) (1.7.3)\n",
      "Requirement already satisfied: six>=1.5 in c:\\users\\hp\\anaconda3\\lib\\site-packages (from python-dateutil>=2.8.1->pandas) (1.16.0)\n",
      "Note: you may need to restart the kernel to use updated packages.\n"
     ]
    }
   ],
   "source": [
    "pip install pandas matplotlib seaborn numpy"
   ]
  },
  {
   "cell_type": "code",
   "execution_count": 3,
   "metadata": {},
   "outputs": [],
   "source": [
    "import pandas as pd\n",
    "import matplotlib.pyplot as plt\n",
    "import seaborn as sns"
   ]
  },
  {
   "cell_type": "code",
   "execution_count": 4,
   "metadata": {},
   "outputs": [],
   "source": [
    "df=pd.read_csv(\"dato.csv\")"
   ]
  },
  {
   "cell_type": "code",
   "execution_count": 5,
   "metadata": {},
   "outputs": [
    {
     "data": {
      "text/html": [
       "<div>\n",
       "<style scoped>\n",
       "    .dataframe tbody tr th:only-of-type {\n",
       "        vertical-align: middle;\n",
       "    }\n",
       "\n",
       "    .dataframe tbody tr th {\n",
       "        vertical-align: top;\n",
       "    }\n",
       "\n",
       "    .dataframe thead th {\n",
       "        text-align: right;\n",
       "    }\n",
       "</style>\n",
       "<table border=\"1\" class=\"dataframe\">\n",
       "  <thead>\n",
       "    <tr style=\"text-align: right;\">\n",
       "      <th></th>\n",
       "      <th>Platform</th>\n",
       "      <th>Genre</th>\n",
       "      <th>Publisher</th>\n",
       "      <th>NA_Sales</th>\n",
       "      <th>EU_Sales</th>\n",
       "      <th>JP_Sales</th>\n",
       "      <th>Other_Sales</th>\n",
       "      <th>Global_Sales</th>\n",
       "      <th>Rating</th>\n",
       "      <th>Critic_Score_Class</th>\n",
       "    </tr>\n",
       "  </thead>\n",
       "  <tbody>\n",
       "    <tr>\n",
       "      <th>0</th>\n",
       "      <td>Wii</td>\n",
       "      <td>Sports</td>\n",
       "      <td>Nintendo</td>\n",
       "      <td>41,36</td>\n",
       "      <td>28,96</td>\n",
       "      <td>3,77</td>\n",
       "      <td>8,45</td>\n",
       "      <td>82,54</td>\n",
       "      <td>E</td>\n",
       "      <td>Bueno</td>\n",
       "    </tr>\n",
       "    <tr>\n",
       "      <th>1</th>\n",
       "      <td>Wii</td>\n",
       "      <td>Racing</td>\n",
       "      <td>Nintendo</td>\n",
       "      <td>15,68</td>\n",
       "      <td>12,8</td>\n",
       "      <td>3,79</td>\n",
       "      <td>3,29</td>\n",
       "      <td>35,57</td>\n",
       "      <td>E</td>\n",
       "      <td>Excelente</td>\n",
       "    </tr>\n",
       "    <tr>\n",
       "      <th>2</th>\n",
       "      <td>Wii</td>\n",
       "      <td>Sports</td>\n",
       "      <td>Nintendo</td>\n",
       "      <td>15,61</td>\n",
       "      <td>10,95</td>\n",
       "      <td>3,28</td>\n",
       "      <td>2,95</td>\n",
       "      <td>32,78</td>\n",
       "      <td>E</td>\n",
       "      <td>Excelente</td>\n",
       "    </tr>\n",
       "    <tr>\n",
       "      <th>3</th>\n",
       "      <td>DS</td>\n",
       "      <td>Platform</td>\n",
       "      <td>Nintendo</td>\n",
       "      <td>11,28</td>\n",
       "      <td>9,15</td>\n",
       "      <td>6,5</td>\n",
       "      <td>2,88</td>\n",
       "      <td>29,81</td>\n",
       "      <td>E</td>\n",
       "      <td>Excelente</td>\n",
       "    </tr>\n",
       "    <tr>\n",
       "      <th>4</th>\n",
       "      <td>Wii</td>\n",
       "      <td>Misc</td>\n",
       "      <td>Nintendo</td>\n",
       "      <td>13,96</td>\n",
       "      <td>9,18</td>\n",
       "      <td>2,93</td>\n",
       "      <td>2,84</td>\n",
       "      <td>28,92</td>\n",
       "      <td>E</td>\n",
       "      <td>Malo</td>\n",
       "    </tr>\n",
       "    <tr>\n",
       "      <th>...</th>\n",
       "      <td>...</td>\n",
       "      <td>...</td>\n",
       "      <td>...</td>\n",
       "      <td>...</td>\n",
       "      <td>...</td>\n",
       "      <td>...</td>\n",
       "      <td>...</td>\n",
       "      <td>...</td>\n",
       "      <td>...</td>\n",
       "      <td>...</td>\n",
       "    </tr>\n",
       "    <tr>\n",
       "      <th>7107</th>\n",
       "      <td>PC</td>\n",
       "      <td>Action</td>\n",
       "      <td>Ubisoft</td>\n",
       "      <td>0</td>\n",
       "      <td>0</td>\n",
       "      <td>0</td>\n",
       "      <td>0</td>\n",
       "      <td>0,01</td>\n",
       "      <td>T</td>\n",
       "      <td>Excelente</td>\n",
       "    </tr>\n",
       "    <tr>\n",
       "      <th>7108</th>\n",
       "      <td>PC</td>\n",
       "      <td>Shooter</td>\n",
       "      <td>Midway Games</td>\n",
       "      <td>0</td>\n",
       "      <td>0</td>\n",
       "      <td>0</td>\n",
       "      <td>0</td>\n",
       "      <td>0,01</td>\n",
       "      <td>T</td>\n",
       "      <td>Aceptable</td>\n",
       "    </tr>\n",
       "    <tr>\n",
       "      <th>7109</th>\n",
       "      <td>PC</td>\n",
       "      <td>Sports</td>\n",
       "      <td>Sega</td>\n",
       "      <td>0</td>\n",
       "      <td>0</td>\n",
       "      <td>0</td>\n",
       "      <td>0</td>\n",
       "      <td>0,01</td>\n",
       "      <td>E</td>\n",
       "      <td>Aceptable</td>\n",
       "    </tr>\n",
       "    <tr>\n",
       "      <th>7110</th>\n",
       "      <td>PC</td>\n",
       "      <td>Strategy</td>\n",
       "      <td>Take-Two Interactive</td>\n",
       "      <td>0</td>\n",
       "      <td>0</td>\n",
       "      <td>0</td>\n",
       "      <td>0</td>\n",
       "      <td>0,01</td>\n",
       "      <td>E10+</td>\n",
       "      <td>Aceptable</td>\n",
       "    </tr>\n",
       "    <tr>\n",
       "      <th>7111</th>\n",
       "      <td>PS4</td>\n",
       "      <td>Platform</td>\n",
       "      <td>Team Meat</td>\n",
       "      <td>0</td>\n",
       "      <td>0</td>\n",
       "      <td>0</td>\n",
       "      <td>0</td>\n",
       "      <td>0,01</td>\n",
       "      <td>T</td>\n",
       "      <td>Excelente</td>\n",
       "    </tr>\n",
       "  </tbody>\n",
       "</table>\n",
       "<p>7112 rows × 10 columns</p>\n",
       "</div>"
      ],
      "text/plain": [
       "     Platform     Genre             Publisher NA_Sales EU_Sales JP_Sales  \\\n",
       "0         Wii    Sports              Nintendo    41,36    28,96     3,77   \n",
       "1         Wii    Racing              Nintendo    15,68     12,8     3,79   \n",
       "2         Wii    Sports              Nintendo    15,61    10,95     3,28   \n",
       "3          DS  Platform              Nintendo    11,28     9,15      6,5   \n",
       "4         Wii      Misc              Nintendo    13,96     9,18     2,93   \n",
       "...       ...       ...                   ...      ...      ...      ...   \n",
       "7107       PC    Action               Ubisoft        0        0        0   \n",
       "7108       PC   Shooter          Midway Games        0        0        0   \n",
       "7109       PC    Sports                  Sega        0        0        0   \n",
       "7110       PC  Strategy  Take-Two Interactive        0        0        0   \n",
       "7111      PS4  Platform             Team Meat        0        0        0   \n",
       "\n",
       "     Other_Sales Global_Sales Rating Critic_Score_Class  \n",
       "0           8,45        82,54      E              Bueno  \n",
       "1           3,29        35,57      E          Excelente  \n",
       "2           2,95        32,78      E          Excelente  \n",
       "3           2,88        29,81      E          Excelente  \n",
       "4           2,84        28,92      E               Malo  \n",
       "...          ...          ...    ...                ...  \n",
       "7107           0         0,01      T          Excelente  \n",
       "7108           0         0,01      T          Aceptable  \n",
       "7109           0         0,01      E          Aceptable  \n",
       "7110           0         0,01   E10+          Aceptable  \n",
       "7111           0         0,01      T          Excelente  \n",
       "\n",
       "[7112 rows x 10 columns]"
      ]
     },
     "execution_count": 5,
     "metadata": {},
     "output_type": "execute_result"
    }
   ],
   "source": [
    "df"
   ]
  },
  {
   "cell_type": "code",
   "execution_count": 6,
   "metadata": {},
   "outputs": [
    {
     "data": {
      "text/plain": [
       "<bound method NDFrame.describe of      Platform     Genre             Publisher NA_Sales EU_Sales JP_Sales  \\\n",
       "0         Wii    Sports              Nintendo    41,36    28,96     3,77   \n",
       "1         Wii    Racing              Nintendo    15,68     12,8     3,79   \n",
       "2         Wii    Sports              Nintendo    15,61    10,95     3,28   \n",
       "3          DS  Platform              Nintendo    11,28     9,15      6,5   \n",
       "4         Wii      Misc              Nintendo    13,96     9,18     2,93   \n",
       "...       ...       ...                   ...      ...      ...      ...   \n",
       "7107       PC    Action               Ubisoft        0        0        0   \n",
       "7108       PC   Shooter          Midway Games        0        0        0   \n",
       "7109       PC    Sports                  Sega        0        0        0   \n",
       "7110       PC  Strategy  Take-Two Interactive        0        0        0   \n",
       "7111      PS4  Platform             Team Meat        0        0        0   \n",
       "\n",
       "     Other_Sales Global_Sales Rating Critic_Score_Class  \n",
       "0           8,45        82,54      E              Bueno  \n",
       "1           3,29        35,57      E          Excelente  \n",
       "2           2,95        32,78      E          Excelente  \n",
       "3           2,88        29,81      E          Excelente  \n",
       "4           2,84        28,92      E               Malo  \n",
       "...          ...          ...    ...                ...  \n",
       "7107           0         0,01      T          Excelente  \n",
       "7108           0         0,01      T          Aceptable  \n",
       "7109           0         0,01      E          Aceptable  \n",
       "7110           0         0,01   E10+          Aceptable  \n",
       "7111           0         0,01      T          Excelente  \n",
       "\n",
       "[7112 rows x 10 columns]>"
      ]
     },
     "execution_count": 6,
     "metadata": {},
     "output_type": "execute_result"
    }
   ],
   "source": [
    "df.describe"
   ]
  },
  {
   "cell_type": "code",
   "execution_count": 7,
   "metadata": {},
   "outputs": [
    {
     "data": {
      "text/plain": [
       "Platform                          3DS\n",
       "Genre                          Action\n",
       "Publisher             10TACLE Studios\n",
       "NA_Sales                            0\n",
       "EU_Sales                            0\n",
       "JP_Sales                            0\n",
       "Other_Sales                         0\n",
       "Global_Sales                     0,01\n",
       "Rating                             AO\n",
       "Critic_Score_Class          Aceptable\n",
       "dtype: object"
      ]
     },
     "execution_count": 7,
     "metadata": {},
     "output_type": "execute_result"
    }
   ],
   "source": [
    "df.min()\n"
   ]
  },
  {
   "cell_type": "code",
   "execution_count": 8,
   "metadata": {},
   "outputs": [
    {
     "data": {
      "text/plain": [
       "Platform                              XOne\n",
       "Genre                             Strategy\n",
       "Publisher             inXile Entertainment\n",
       "NA_Sales                              9,73\n",
       "EU_Sales                               9,2\n",
       "JP_Sales                               6,5\n",
       "Other_Sales                           8,45\n",
       "Global_Sales                           9,9\n",
       "Rating                                   T\n",
       "Critic_Score_Class                    Malo\n",
       "dtype: object"
      ]
     },
     "execution_count": 8,
     "metadata": {},
     "output_type": "execute_result"
    }
   ],
   "source": [
    "df.max()\n"
   ]
  },
  {
   "cell_type": "code",
   "execution_count": 9,
   "metadata": {},
   "outputs": [
    {
     "data": {
      "text/plain": [
       "0       82,54\n",
       "1       35,57\n",
       "2       32,78\n",
       "3       29,81\n",
       "4       28,92\n",
       "        ...  \n",
       "7107     0,01\n",
       "7108     0,01\n",
       "7109     0,01\n",
       "7110     0,01\n",
       "7111     0,01\n",
       "Name: Global_Sales, Length: 7112, dtype: object"
      ]
     },
     "execution_count": 9,
     "metadata": {},
     "output_type": "execute_result"
    }
   ],
   "source": [
    "col = df.Global_Sales\n",
    "col\n"
   ]
  },
  {
   "cell_type": "code",
   "execution_count": 10,
   "metadata": {},
   "outputs": [
    {
     "data": {
      "text/plain": [
       "<bound method DataFrame.info of      Platform     Genre             Publisher NA_Sales EU_Sales JP_Sales  \\\n",
       "0         Wii    Sports              Nintendo    41,36    28,96     3,77   \n",
       "1         Wii    Racing              Nintendo    15,68     12,8     3,79   \n",
       "2         Wii    Sports              Nintendo    15,61    10,95     3,28   \n",
       "3          DS  Platform              Nintendo    11,28     9,15      6,5   \n",
       "4         Wii      Misc              Nintendo    13,96     9,18     2,93   \n",
       "...       ...       ...                   ...      ...      ...      ...   \n",
       "7107       PC    Action               Ubisoft        0        0        0   \n",
       "7108       PC   Shooter          Midway Games        0        0        0   \n",
       "7109       PC    Sports                  Sega        0        0        0   \n",
       "7110       PC  Strategy  Take-Two Interactive        0        0        0   \n",
       "7111      PS4  Platform             Team Meat        0        0        0   \n",
       "\n",
       "     Other_Sales Global_Sales Rating Critic_Score_Class  \n",
       "0           8,45        82,54      E              Bueno  \n",
       "1           3,29        35,57      E          Excelente  \n",
       "2           2,95        32,78      E          Excelente  \n",
       "3           2,88        29,81      E          Excelente  \n",
       "4           2,84        28,92      E               Malo  \n",
       "...          ...          ...    ...                ...  \n",
       "7107           0         0,01      T          Excelente  \n",
       "7108           0         0,01      T          Aceptable  \n",
       "7109           0         0,01      E          Aceptable  \n",
       "7110           0         0,01   E10+          Aceptable  \n",
       "7111           0         0,01      T          Excelente  \n",
       "\n",
       "[7112 rows x 10 columns]>"
      ]
     },
     "execution_count": 10,
     "metadata": {},
     "output_type": "execute_result"
    }
   ],
   "source": [
    "df.info"
   ]
  },
  {
   "cell_type": "code",
   "execution_count": 11,
   "metadata": {},
   "outputs": [
    {
     "data": {
      "text/plain": [
       "Platform              0\n",
       "Genre                 0\n",
       "Publisher             0\n",
       "NA_Sales              0\n",
       "EU_Sales              0\n",
       "JP_Sales              0\n",
       "Other_Sales           0\n",
       "Global_Sales          0\n",
       "Rating                0\n",
       "Critic_Score_Class    0\n",
       "dtype: int64"
      ]
     },
     "execution_count": 11,
     "metadata": {},
     "output_type": "execute_result"
    }
   ],
   "source": [
    "df.isnull().sum()"
   ]
  }
 ],
 "metadata": {
  "kernelspec": {
   "display_name": "Python 3 (ipykernel)",
   "language": "python",
   "name": "python3"
  },
  "language_info": {
   "codemirror_mode": {
    "name": "ipython",
    "version": 3
   },
   "file_extension": ".py",
   "mimetype": "text/x-python",
   "name": "python",
   "nbconvert_exporter": "python",
   "pygments_lexer": "ipython3",
   "version": "3.9.12"
  },
  "vscode": {
   "interpreter": {
    "hash": "a9cff5a362bc38ef45d817ae74b1af54d6a076e3d773891282bce078b815ba34"
   }
  }
 },
 "nbformat": 4,
 "nbformat_minor": 2
}
