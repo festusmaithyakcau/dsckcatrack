{
 "cells": [
  {
   "cell_type": "code",
   "execution_count": 1,
   "metadata": {},
   "outputs": [
    {
     "name": "stdout",
     "output_type": "stream",
     "text": [
      "Requirement already satisfied: pytrends in c:\\users\\hp\\anaconda3\\lib\\site-packages (4.8.0)\n",
      "Requirement already satisfied: requests in c:\\users\\hp\\anaconda3\\lib\\site-packages (2.27.1)\n",
      "Requirement already satisfied: lxml in c:\\users\\hp\\anaconda3\\lib\\site-packages (4.8.0)\n",
      "Requirement already satisfied: pandas>=0.25 in c:\\users\\hp\\anaconda3\\lib\\site-packages (from pytrends) (1.4.2)\n",
      "Requirement already satisfied: urllib3<1.27,>=1.21.1 in c:\\users\\hp\\anaconda3\\lib\\site-packages (from requests) (1.26.9)\n",
      "Requirement already satisfied: charset-normalizer~=2.0.0 in c:\\users\\hp\\anaconda3\\lib\\site-packages (from requests) (2.0.4)\n",
      "Requirement already satisfied: certifi>=2017.4.17 in c:\\users\\hp\\anaconda3\\lib\\site-packages (from requests) (2021.10.8)\n",
      "Requirement already satisfied: idna<4,>=2.5 in c:\\users\\hp\\anaconda3\\lib\\site-packages (from requests) (3.3)\n",
      "Requirement already satisfied: python-dateutil>=2.8.1 in c:\\users\\hp\\anaconda3\\lib\\site-packages (from pandas>=0.25->pytrends) (2.8.2)\n",
      "Requirement already satisfied: pytz>=2020.1 in c:\\users\\hp\\anaconda3\\lib\\site-packages (from pandas>=0.25->pytrends) (2021.3)\n",
      "Requirement already satisfied: numpy>=1.18.5 in c:\\users\\hp\\anaconda3\\lib\\site-packages (from pandas>=0.25->pytrends) (1.21.5)\n",
      "Requirement already satisfied: six>=1.5 in c:\\users\\hp\\anaconda3\\lib\\site-packages (from python-dateutil>=2.8.1->pandas>=0.25->pytrends) (1.16.0)\n",
      "Note: you may need to restart the kernel to use updated packages.\n"
     ]
    }
   ],
   "source": [
    "pip install pytrends requests lxml"
   ]
  },
  {
   "cell_type": "markdown",
   "metadata": {},
   "source": [
    "connecting to the GOOGLE API"
   ]
  },
  {
   "cell_type": "code",
   "execution_count": 2,
   "metadata": {},
   "outputs": [],
   "source": [
    "import pytrends\n",
    "from pytrends.request import TrendReq"
   ]
  },
  {
   "cell_type": "code",
   "execution_count": 3,
   "metadata": {},
   "outputs": [],
   "source": [
    "#importing valid libraries\n",
    "import pandas as pd\n",
    "import seaborn as sns\n",
    "import matplotlib.pyplot as plt\n",
    "%matplotlib inline"
   ]
  },
  {
   "cell_type": "code",
   "execution_count": 4,
   "metadata": {},
   "outputs": [],
   "source": [
    "pytrends = TrendReq(hl='en-US', tz=360)"
   ]
  },
  {
   "cell_type": "code",
   "execution_count": 5,
   "metadata": {},
   "outputs": [],
   "source": [
    "pytrends.build_payload(kw_list=['machine learning', 'data science',\n",
    "                                'python'])"
   ]
  },
  {
   "cell_type": "code",
   "execution_count": 6,
   "metadata": {},
   "outputs": [],
   "source": [
    "data = pytrends.interest_by_region()\n"
   ]
  },
  {
   "cell_type": "code",
   "execution_count": 7,
   "metadata": {},
   "outputs": [
    {
     "data": {
      "text/html": [
       "<div>\n",
       "<style scoped>\n",
       "    .dataframe tbody tr th:only-of-type {\n",
       "        vertical-align: middle;\n",
       "    }\n",
       "\n",
       "    .dataframe tbody tr th {\n",
       "        vertical-align: top;\n",
       "    }\n",
       "\n",
       "    .dataframe thead th {\n",
       "        text-align: right;\n",
       "    }\n",
       "</style>\n",
       "<table border=\"1\" class=\"dataframe\">\n",
       "  <thead>\n",
       "    <tr style=\"text-align: right;\">\n",
       "      <th></th>\n",
       "      <th>machine learning</th>\n",
       "      <th>data science</th>\n",
       "      <th>python</th>\n",
       "    </tr>\n",
       "    <tr>\n",
       "      <th>geoName</th>\n",
       "      <th></th>\n",
       "      <th></th>\n",
       "      <th></th>\n",
       "    </tr>\n",
       "  </thead>\n",
       "  <tbody>\n",
       "    <tr>\n",
       "      <th>Bangladesh</th>\n",
       "      <td>11</td>\n",
       "      <td>7</td>\n",
       "      <td>82</td>\n",
       "    </tr>\n",
       "    <tr>\n",
       "      <th>Pakistan</th>\n",
       "      <td>10</td>\n",
       "      <td>9</td>\n",
       "      <td>81</td>\n",
       "    </tr>\n",
       "    <tr>\n",
       "      <th>India</th>\n",
       "      <td>9</td>\n",
       "      <td>8</td>\n",
       "      <td>83</td>\n",
       "    </tr>\n",
       "    <tr>\n",
       "      <th>Malaysia</th>\n",
       "      <td>9</td>\n",
       "      <td>8</td>\n",
       "      <td>83</td>\n",
       "    </tr>\n",
       "    <tr>\n",
       "      <th>Indonesia</th>\n",
       "      <td>9</td>\n",
       "      <td>7</td>\n",
       "      <td>84</td>\n",
       "    </tr>\n",
       "    <tr>\n",
       "      <th>...</th>\n",
       "      <td>...</td>\n",
       "      <td>...</td>\n",
       "      <td>...</td>\n",
       "    </tr>\n",
       "    <tr>\n",
       "      <th>Western Sahara</th>\n",
       "      <td>0</td>\n",
       "      <td>0</td>\n",
       "      <td>0</td>\n",
       "    </tr>\n",
       "    <tr>\n",
       "      <th>Yemen</th>\n",
       "      <td>0</td>\n",
       "      <td>0</td>\n",
       "      <td>0</td>\n",
       "    </tr>\n",
       "    <tr>\n",
       "      <th>Zambia</th>\n",
       "      <td>0</td>\n",
       "      <td>0</td>\n",
       "      <td>0</td>\n",
       "    </tr>\n",
       "    <tr>\n",
       "      <th>Zimbabwe</th>\n",
       "      <td>0</td>\n",
       "      <td>0</td>\n",
       "      <td>0</td>\n",
       "    </tr>\n",
       "    <tr>\n",
       "      <th>Åland Islands</th>\n",
       "      <td>0</td>\n",
       "      <td>0</td>\n",
       "      <td>0</td>\n",
       "    </tr>\n",
       "  </tbody>\n",
       "</table>\n",
       "<p>250 rows × 3 columns</p>\n",
       "</div>"
      ],
      "text/plain": [
       "                machine learning  data science  python\n",
       "geoName                                               \n",
       "Bangladesh                    11             7      82\n",
       "Pakistan                      10             9      81\n",
       "India                          9             8      83\n",
       "Malaysia                       9             8      83\n",
       "Indonesia                      9             7      84\n",
       "...                          ...           ...     ...\n",
       "Western Sahara                 0             0       0\n",
       "Yemen                          0             0       0\n",
       "Zambia                         0             0       0\n",
       "Zimbabwe                       0             0       0\n",
       "Åland Islands                  0             0       0\n",
       "\n",
       "[250 rows x 3 columns]"
      ]
     },
     "execution_count": 7,
     "metadata": {},
     "output_type": "execute_result"
    }
   ],
   "source": [
    "data.sort_values(by=['machine learning', 'data science',\n",
    "                     'python'], ascending=False)"
   ]
  },
  {
   "cell_type": "code",
   "execution_count": 8,
   "metadata": {},
   "outputs": [
    {
     "data": {
      "text/plain": [
       "<Figure size 1440x720 with 0 Axes>"
      ]
     },
     "metadata": {},
     "output_type": "display_data"
    },
    {
     "data": {
      "image/png": "[encoded data removed]",
      "text/plain": [
       "<Figure size 432x288 with 1 Axes>"
      ]
     },
     "metadata": {
      "needs_background": "light"
     },
     "output_type": "display_data"
    }
   ],
   "source": [
    "plt.figure(figsize=(20, 10))\n",
    "data.reset_index().plot(y='machine learning', x='geoName')\n",
    "plt.xticks(rotation=90)\n",
    "plt.show()\n"
   ]
  },
  {
   "cell_type": "code",
   "execution_count": 9,
   "metadata": {},
   "outputs": [
    {
     "data": {
      "text/plain": [
       "<Figure size 1440x720 with 0 Axes>"
      ]
     },
     "metadata": {},
     "output_type": "display_data"
    },
    {
     "data": {
      "image/png": "[encoded data removed]",
      "text/plain": [
       "<Figure size 432x288 with 1 Axes>"
      ]
     },
     "metadata": {
      "needs_background": "light"
     },
     "output_type": "display_data"
    }
   ],
   "source": [
    "plt.figure(figsize=(20, 10))\n",
    "data.reset_index().plot(y='data science', x='geoName')\n",
    "plt.xticks(rotation=90)\n",
    "plt.show()\n"
   ]
  },
  {
   "cell_type": "code",
   "execution_count": 10,
   "metadata": {},
   "outputs": [
    {
     "data": {
      "text/plain": [
       "<Figure size 1440x720 with 0 Axes>"
      ]
     },
     "metadata": {},
     "output_type": "display_data"
    },
    {
     "data": {
      "image/png": "[encoded data removed]",
      "text/plain": [
       "<Figure size 432x288 with 1 Axes>"
      ]
     },
     "metadata": {
      "needs_background": "light"
     },
     "output_type": "display_data"
    }
   ],
   "source": [
    "plt.figure(figsize=(20, 10))\n",
    "data.reset_index().plot(y='python', x='geoName')\n",
    "plt.xticks(rotation=90)\n",
    "plt.show()\n"
   ]
  },
  {
   "cell_type": "code",
   "execution_count": 45,
   "metadata": {},
   "outputs": [],
   "source": [
    "data_kenya = pytrends.trending_searches(pn='kenya')\n"
   ]
  },
  {
   "cell_type": "code",
   "execution_count": 46,
   "metadata": {},
   "outputs": [
    {
     "data": {
      "text/html": [
       "<div>\n",
       "<style scoped>\n",
       "    .dataframe tbody tr th:only-of-type {\n",
       "        vertical-align: middle;\n",
       "    }\n",
       "\n",
       "    .dataframe tbody tr th {\n",
       "        vertical-align: top;\n",
       "    }\n",
       "\n",
       "    .dataframe thead th {\n",
       "        text-align: right;\n",
       "    }\n",
       "</style>\n",
       "<table border=\"1\" class=\"dataframe\">\n",
       "  <thead>\n",
       "    <tr style=\"text-align: right;\">\n",
       "      <th></th>\n",
       "      <th>0</th>\n",
       "    </tr>\n",
       "  </thead>\n",
       "  <tbody>\n",
       "    <tr>\n",
       "      <th>0</th>\n",
       "      <td>India vs New Zealand</td>\n",
       "    </tr>\n",
       "    <tr>\n",
       "      <th>1</th>\n",
       "      <td>Mavericks vs Warriors</td>\n",
       "    </tr>\n",
       "    <tr>\n",
       "      <th>2</th>\n",
       "      <td>Clarence Gilyard</td>\n",
       "    </tr>\n",
       "    <tr>\n",
       "      <th>3</th>\n",
       "      <td>Gareth Bale</td>\n",
       "    </tr>\n",
       "    <tr>\n",
       "      <th>4</th>\n",
       "      <td>Raila</td>\n",
       "    </tr>\n",
       "  </tbody>\n",
       "</table>\n",
       "</div>"
      ],
      "text/plain": [
       "                       0\n",
       "0   India vs New Zealand\n",
       "1  Mavericks vs Warriors\n",
       "2       Clarence Gilyard\n",
       "3            Gareth Bale\n",
       "4                  Raila"
      ]
     },
     "execution_count": 46,
     "metadata": {},
     "output_type": "execute_result"
    }
   ],
   "source": [
    "data_kenya.head()\n"
   ]
  },
  {
   "cell_type": "code",
   "execution_count": 47,
   "metadata": {},
   "outputs": [
    {
     "data": {
      "text/html": [
       "<div>\n",
       "<style scoped>\n",
       "    .dataframe tbody tr th:only-of-type {\n",
       "        vertical-align: middle;\n",
       "    }\n",
       "\n",
       "    .dataframe tbody tr th {\n",
       "        vertical-align: top;\n",
       "    }\n",
       "\n",
       "    .dataframe thead th {\n",
       "        text-align: right;\n",
       "    }\n",
       "</style>\n",
       "<table border=\"1\" class=\"dataframe\">\n",
       "  <thead>\n",
       "    <tr style=\"text-align: right;\">\n",
       "      <th></th>\n",
       "      <th>0</th>\n",
       "    </tr>\n",
       "  </thead>\n",
       "  <tbody>\n",
       "    <tr>\n",
       "      <th>15</th>\n",
       "      <td>Saudi Arabia vs Mexico</td>\n",
       "    </tr>\n",
       "    <tr>\n",
       "      <th>16</th>\n",
       "      <td>Netherlands</td>\n",
       "    </tr>\n",
       "    <tr>\n",
       "      <th>17</th>\n",
       "      <td>Uhuru Kenyatta</td>\n",
       "    </tr>\n",
       "    <tr>\n",
       "      <th>18</th>\n",
       "      <td>Canada vs Morocco</td>\n",
       "    </tr>\n",
       "    <tr>\n",
       "      <th>19</th>\n",
       "      <td>Qatar vs Netherlands</td>\n",
       "    </tr>\n",
       "  </tbody>\n",
       "</table>\n",
       "</div>"
      ],
      "text/plain": [
       "                         0\n",
       "15  Saudi Arabia vs Mexico\n",
       "16             Netherlands\n",
       "17          Uhuru Kenyatta\n",
       "18       Canada vs Morocco\n",
       "19    Qatar vs Netherlands"
      ]
     },
     "execution_count": 47,
     "metadata": {},
     "output_type": "execute_result"
    }
   ],
   "source": [
    "data_india.tail()\n"
   ]
  },
  {
   "cell_type": "code",
   "execution_count": 48,
   "metadata": {},
   "outputs": [],
   "source": [
    "top_data = pytrends.top_charts(2021, hl='en-us', tz=300, geo='GLOBAL')\n"
   ]
  },
  {
   "cell_type": "code",
   "execution_count": 49,
   "metadata": {},
   "outputs": [
    {
     "data": {
      "text/html": [
       "<div>\n",
       "<style scoped>\n",
       "    .dataframe tbody tr th:only-of-type {\n",
       "        vertical-align: middle;\n",
       "    }\n",
       "\n",
       "    .dataframe tbody tr th {\n",
       "        vertical-align: top;\n",
       "    }\n",
       "\n",
       "    .dataframe thead th {\n",
       "        text-align: right;\n",
       "    }\n",
       "</style>\n",
       "<table border=\"1\" class=\"dataframe\">\n",
       "  <thead>\n",
       "    <tr style=\"text-align: right;\">\n",
       "      <th></th>\n",
       "      <th>title</th>\n",
       "      <th>exploreQuery</th>\n",
       "    </tr>\n",
       "  </thead>\n",
       "  <tbody>\n",
       "    <tr>\n",
       "      <th>0</th>\n",
       "      <td>Australia vs India</td>\n",
       "      <td></td>\n",
       "    </tr>\n",
       "    <tr>\n",
       "      <th>1</th>\n",
       "      <td>India vs England</td>\n",
       "      <td></td>\n",
       "    </tr>\n",
       "    <tr>\n",
       "      <th>2</th>\n",
       "      <td>IPL</td>\n",
       "      <td></td>\n",
       "    </tr>\n",
       "    <tr>\n",
       "      <th>3</th>\n",
       "      <td>NBA</td>\n",
       "      <td></td>\n",
       "    </tr>\n",
       "    <tr>\n",
       "      <th>4</th>\n",
       "      <td>Euro 2021</td>\n",
       "      <td></td>\n",
       "    </tr>\n",
       "  </tbody>\n",
       "</table>\n",
       "</div>"
      ],
      "text/plain": [
       "                title exploreQuery\n",
       "0  Australia vs India             \n",
       "1    India vs England             \n",
       "2                 IPL             \n",
       "3                 NBA             \n",
       "4           Euro 2021             "
      ]
     },
     "execution_count": 49,
     "metadata": {},
     "output_type": "execute_result"
    }
   ],
   "source": [
    "top_data.head()\n"
   ]
  },
  {
   "cell_type": "code",
   "execution_count": 50,
   "metadata": {},
   "outputs": [
    {
     "data": {
      "text/html": [
       "<div>\n",
       "<style scoped>\n",
       "    .dataframe tbody tr th:only-of-type {\n",
       "        vertical-align: middle;\n",
       "    }\n",
       "\n",
       "    .dataframe tbody tr th {\n",
       "        vertical-align: top;\n",
       "    }\n",
       "\n",
       "    .dataframe thead th {\n",
       "        text-align: right;\n",
       "    }\n",
       "</style>\n",
       "<table border=\"1\" class=\"dataframe\">\n",
       "  <thead>\n",
       "    <tr style=\"text-align: right;\">\n",
       "      <th></th>\n",
       "      <th>title</th>\n",
       "      <th>exploreQuery</th>\n",
       "    </tr>\n",
       "  </thead>\n",
       "  <tbody>\n",
       "    <tr>\n",
       "      <th>5</th>\n",
       "      <td>Copa América</td>\n",
       "      <td>Copa America</td>\n",
       "    </tr>\n",
       "    <tr>\n",
       "      <th>6</th>\n",
       "      <td>India vs New Zealand</td>\n",
       "      <td></td>\n",
       "    </tr>\n",
       "    <tr>\n",
       "      <th>7</th>\n",
       "      <td>T20 World Cup</td>\n",
       "      <td></td>\n",
       "    </tr>\n",
       "    <tr>\n",
       "      <th>8</th>\n",
       "      <td>Squid Game</td>\n",
       "      <td></td>\n",
       "    </tr>\n",
       "    <tr>\n",
       "      <th>9</th>\n",
       "      <td>DMX</td>\n",
       "      <td></td>\n",
       "    </tr>\n",
       "  </tbody>\n",
       "</table>\n",
       "</div>"
      ],
      "text/plain": [
       "                  title  exploreQuery\n",
       "5          Copa América  Copa America\n",
       "6  India vs New Zealand              \n",
       "7         T20 World Cup              \n",
       "8            Squid Game              \n",
       "9                   DMX              "
      ]
     },
     "execution_count": 50,
     "metadata": {},
     "output_type": "execute_result"
    }
   ],
   "source": [
    "top_data.tail()\n"
   ]
  },
  {
   "cell_type": "code",
   "execution_count": 52,
   "metadata": {},
   "outputs": [
    {
     "data": {
      "text/html": [
       "<div>\n",
       "<style scoped>\n",
       "    .dataframe tbody tr th:only-of-type {\n",
       "        vertical-align: middle;\n",
       "    }\n",
       "\n",
       "    .dataframe tbody tr th {\n",
       "        vertical-align: top;\n",
       "    }\n",
       "\n",
       "    .dataframe thead th {\n",
       "        text-align: right;\n",
       "    }\n",
       "</style>\n",
       "<table border=\"1\" class=\"dataframe\">\n",
       "  <thead>\n",
       "    <tr style=\"text-align: right;\">\n",
       "      <th></th>\n",
       "      <th>title</th>\n",
       "      <th>type</th>\n",
       "    </tr>\n",
       "  </thead>\n",
       "  <tbody>\n",
       "    <tr>\n",
       "      <th>0</th>\n",
       "      <td>Politics</td>\n",
       "      <td>Field of study</td>\n",
       "    </tr>\n",
       "    <tr>\n",
       "      <th>1</th>\n",
       "      <td>The Real Anthony Fauci: Bill Gates, Big Pharma...</td>\n",
       "      <td>Topic</td>\n",
       "    </tr>\n",
       "    <tr>\n",
       "      <th>2</th>\n",
       "      <td>The Lincoln Highway: A Novel</td>\n",
       "      <td>Topic</td>\n",
       "    </tr>\n",
       "    <tr>\n",
       "      <th>3</th>\n",
       "      <td>These Violent Delights</td>\n",
       "      <td>Topic</td>\n",
       "    </tr>\n",
       "    <tr>\n",
       "      <th>4</th>\n",
       "      <td>Enoch Burke</td>\n",
       "      <td>Topic</td>\n",
       "    </tr>\n",
       "  </tbody>\n",
       "</table>\n",
       "</div>"
      ],
      "text/plain": [
       "                                               title            type\n",
       "0                                           Politics  Field of study\n",
       "1  The Real Anthony Fauci: Bill Gates, Big Pharma...           Topic\n",
       "2                       The Lincoln Highway: A Novel           Topic\n",
       "3                             These Violent Delights           Topic\n",
       "4                                        Enoch Burke           Topic"
      ]
     },
     "execution_count": 52,
     "metadata": {},
     "output_type": "execute_result"
    }
   ],
   "source": [
    "keywords = pytrends.suggestions(keyword='politics')\n",
    "df = pd.DataFrame(keywords)\n",
    "df.drop(columns='mid')\n"
   ]
  },
  {
   "cell_type": "code",
   "execution_count": 53,
   "metadata": {},
   "outputs": [],
   "source": [
    "pytrends.build_payload(kw_list=['jobs'])"
   ]
  },
  {
   "cell_type": "code",
   "execution_count": 55,
   "metadata": {},
   "outputs": [],
   "source": [
    "job_query = pytrends.related_queries()\n"
   ]
  },
  {
   "cell_type": "code",
   "execution_count": 74,
   "metadata": {},
   "outputs": [
    {
     "data": {
      "text/plain": [
       "{'jobs': {'top':                   query  value\n",
       "  0          jobs near me    100\n",
       "  1                   job     81\n",
       "  2           jobs indeed     80\n",
       "  3                indeed     78\n",
       "  4        part time jobs     43\n",
       "  5           online jobs     35\n",
       "  6           jobs hiring     31\n",
       "  7           amazon jobs     27\n",
       "  8        jobs from home     26\n",
       "  9             best jobs     26\n",
       "  10      government jobs     25\n",
       "  11       work from home     20\n",
       "  12           steve jobs     19\n",
       "  13  work from home jobs     19\n",
       "  14          google jobs     19\n",
       "  15              it jobs     18\n",
       "  16             nhs jobs     18\n",
       "  17          remote jobs     17\n",
       "  18           state jobs     17\n",
       "  19      craigslist jobs     17\n",
       "  20            bank jobs     16\n",
       "  21            govt jobs     16\n",
       "  22  jobs near me hiring     16\n",
       "  23       hiring near me     15\n",
       "  24        security jobs     12,\n",
       "  'rising':                   query   value\n",
       "  0          jobs near me  596200\n",
       "  1                   job  480050\n",
       "  2           jobs indeed  475400\n",
       "  3                indeed  467550\n",
       "  4        part time jobs  257550\n",
       "  5           online jobs  207550\n",
       "  6           jobs hiring  185950\n",
       "  7           amazon jobs  160900\n",
       "  8        jobs from home  156300\n",
       "  9             best jobs  155950\n",
       "  10      government jobs  147550\n",
       "  11       work from home  116850\n",
       "  12           steve jobs  112850\n",
       "  13  work from home jobs  112750\n",
       "  14          google jobs  110250\n",
       "  15              it jobs  109750\n",
       "  16             nhs jobs  108800\n",
       "  17          remote jobs  104000\n",
       "  18           state jobs  101650\n",
       "  19      craigslist jobs  100150\n",
       "  20            bank jobs   96500\n",
       "  21            govt jobs   95600\n",
       "  22  jobs near me hiring   92800\n",
       "  23       hiring near me   87400\n",
       "  24        security jobs   73450}}"
      ]
     },
     "execution_count": 74,
     "metadata": {},
     "output_type": "execute_result"
    }
   ],
   "source": [
    "job_query"
   ]
  },
  {
   "cell_type": "code",
   "execution_count": 75,
   "metadata": {},
   "outputs": [
    {
     "name": "stdout",
     "output_type": "stream",
     "text": [
      "<class 'dict'>\n"
     ]
    }
   ],
   "source": [
    "print(type(job_query))"
   ]
  },
  {
   "cell_type": "code",
   "execution_count": 76,
   "metadata": {},
   "outputs": [
    {
     "data": {
      "text/html": [
       "<div>\n",
       "<style scoped>\n",
       "    .dataframe tbody tr th:only-of-type {\n",
       "        vertical-align: middle;\n",
       "    }\n",
       "\n",
       "    .dataframe tbody tr th {\n",
       "        vertical-align: top;\n",
       "    }\n",
       "\n",
       "    .dataframe thead th {\n",
       "        text-align: right;\n",
       "    }\n",
       "</style>\n",
       "<table border=\"1\" class=\"dataframe\">\n",
       "  <thead>\n",
       "    <tr style=\"text-align: right;\">\n",
       "      <th></th>\n",
       "      <th>jobs</th>\n",
       "    </tr>\n",
       "  </thead>\n",
       "  <tbody>\n",
       "    <tr>\n",
       "      <th>rising</th>\n",
       "      <td>query   value\n",
       "0          job...</td>\n",
       "    </tr>\n",
       "    <tr>\n",
       "      <th>top</th>\n",
       "      <td>query  value\n",
       "0          jobs...</td>\n",
       "    </tr>\n",
       "  </tbody>\n",
       "</table>\n",
       "</div>"
      ],
      "text/plain": [
       "                                                     jobs\n",
       "rising                    query   value\n",
       "0          job...\n",
       "top                       query  value\n",
       "0          jobs..."
      ]
     },
     "execution_count": 76,
     "metadata": {},
     "output_type": "execute_result"
    }
   ],
   "source": [
    "jobdf=pd.DataFrame.from_dict(job_query)\n",
    "jobdf"
   ]
  },
  {
   "cell_type": "code",
   "execution_count": 57,
   "metadata": {},
   "outputs": [],
   "source": [
    "job_topic = pytrends.related_topics()"
   ]
  },
  {
   "cell_type": "code",
   "execution_count": 22,
   "metadata": {},
   "outputs": [
    {
     "data": {
      "text/plain": [
       "dict_values([{'rising':    value formattedValue                                         link  \\\n",
       "0    160          +160%   /trends/explore?q=/m/04pymq&date=today+5-y   \n",
       "1    130          +130%   /trends/explore?q=/m/014xsg&date=today+5-y   \n",
       "2     70           +70%   /trends/explore?q=/m/05xxpw&date=today+5-y   \n",
       "3     70           +70%   /trends/explore?q=/m/018j6p&date=today+5-y   \n",
       "4     70           +70%   /trends/explore?q=/m/04ctxd&date=today+5-y   \n",
       "5     60           +60%   /trends/explore?q=/m/09ylwk&date=today+5-y   \n",
       "6     50           +50%   /trends/explore?q=/m/02g0j0&date=today+5-y   \n",
       "7     50           +50%  /trends/explore?q=/m/0t53np8&date=today+5-y   \n",
       "8     40           +40%   /trends/explore?q=/m/04kq7l&date=today+5-y   \n",
       "\n",
       "    topic_mid                  topic_title        topic_type  \n",
       "0   /m/04pymq                        .jobs  Top-level domain  \n",
       "1   /m/014xsg                  Remote work             Topic  \n",
       "2   /m/05xxpw                Full-time job             Topic  \n",
       "3   /m/018j6p           Software Developer            Career  \n",
       "4   /m/04ctxd  Commercial driver's license             Topic  \n",
       "5   /m/09ylwk                       Indeed           Website  \n",
       "6   /m/02g0j0                   Freelancer         Job title  \n",
       "7  /m/0t53np8                    Glassdoor           Website  \n",
       "8   /m/04kq7l             Data entry clerk         Job title  , 'top':     value formattedValue  hasData  \\\n",
       "0     100            100     True   \n",
       "1       5              5     True   \n",
       "2       3              3     True   \n",
       "3       3              3     True   \n",
       "4       3              3     True   \n",
       "5       3              3     True   \n",
       "6       3              3     True   \n",
       "7       1              1     True   \n",
       "8       1              1     True   \n",
       "9       1              1     True   \n",
       "10      1              1     True   \n",
       "11      1              1     True   \n",
       "12      1              1     True   \n",
       "13      1              1     True   \n",
       "14      1              1     True   \n",
       "15      1              1     True   \n",
       "16      0             <1     True   \n",
       "17      0             <1     True   \n",
       "18      0             <1     True   \n",
       "19      0             <1     True   \n",
       "20      0             <1     True   \n",
       "21      0             <1     True   \n",
       "\n",
       "                                              link      topic_mid  \\\n",
       "0      /trends/explore?q=/m/04115t2&date=today+5-y     /m/04115t2   \n",
       "1       /trends/explore?q=/m/09ylwk&date=today+5-y      /m/09ylwk   \n",
       "2       /trends/explore?q=/m/05xxpj&date=today+5-y      /m/05xxpj   \n",
       "3       /trends/explore?q=/m/03nw7w&date=today+5-y      /m/03nw7w   \n",
       "4        /trends/explore?q=/m/036nz&date=today+5-y       /m/036nz   \n",
       "5      /trends/explore?q=/m/03ml62y&date=today+5-y     /m/03ml62y   \n",
       "6       /trends/explore?q=/m/02w88k&date=today+5-y      /m/02w88k   \n",
       "7       /trends/explore?q=/m/014xsg&date=today+5-y      /m/014xsg   \n",
       "8       /trends/explore?q=/m/01_942&date=today+5-y      /m/01_942   \n",
       "9        /trends/explore?q=/m/06y3r&date=today+5-y       /m/06y3r   \n",
       "10     /trends/explore?q=/m/02ky346&date=today+5-y     /m/02ky346   \n",
       "11      /trends/explore?q=/m/01fw9h&date=today+5-y      /m/01fw9h   \n",
       "12      /trends/explore?q=/m/019v9k&date=today+5-y      /m/019v9k   \n",
       "13  /trends/explore?q=/g/11h7hz8ms4&date=today+5-y  /g/11h7hz8ms4   \n",
       "14      /trends/explore?q=/m/04pymq&date=today+5-y      /m/04pymq   \n",
       "15      /trends/explore?q=/m/05xf3m&date=today+5-y      /m/05xf3m   \n",
       "16      /trends/explore?q=/m/018j6p&date=today+5-y      /m/018j6p   \n",
       "17      /trends/explore?q=/m/05xxpw&date=today+5-y      /m/05xxpw   \n",
       "18      /trends/explore?q=/m/04kq7l&date=today+5-y      /m/04kq7l   \n",
       "19      /trends/explore?q=/m/02g0j0&date=today+5-y      /m/02g0j0   \n",
       "20     /trends/explore?q=/m/0t53np8&date=today+5-y     /m/0t53np8   \n",
       "21      /trends/explore?q=/m/04ctxd&date=today+5-y      /m/04ctxd   \n",
       "\n",
       "                    topic_title             topic_type  \n",
       "0                           Job                  Topic  \n",
       "1                        Indeed                Website  \n",
       "2                 Part-time job                  Topic  \n",
       "3                   Recruitment                  Topic  \n",
       "4                    Government      Organization type  \n",
       "5                        Career                  Topic  \n",
       "6                        Salary                  Topic  \n",
       "7                   Remote work                  Topic  \n",
       "8                          Wage                  Topic  \n",
       "9                    Steve Jobs  American entrepreneur  \n",
       "10                  Engineering             Discipline  \n",
       "11      National Health Service                England  \n",
       "12            Bachelor's degree                 Degree  \n",
       "13             Registered nurse                 Career  \n",
       "14                        .jobs       Top-level domain  \n",
       "15              Entry-level job                  Topic  \n",
       "16           Software Developer                 Career  \n",
       "17                Full-time job                  Topic  \n",
       "18             Data entry clerk              Job title  \n",
       "19                   Freelancer              Job title  \n",
       "20                    Glassdoor                Website  \n",
       "21  Commercial driver's license                  Topic  }])"
      ]
     },
     "execution_count": 22,
     "metadata": {},
     "output_type": "execute_result"
    }
   ],
   "source": [
    "job_topic.values()\n"
   ]
  },
  {
   "cell_type": "markdown",
   "metadata": {},
   "source": [
    "TIME FOR FUN WITH THE API"
   ]
  },
  {
   "cell_type": "code",
   "execution_count": 77,
   "metadata": {},
   "outputs": [
    {
     "name": "stdout",
     "output_type": "stream",
     "text": [
      "['engineer salary', 'salary software engineer', 'software engineer jobs', 'senior software engineer', 'software engineering', 'software developer', 'software engineer job', 'engineering', 'google software engineer', 'what is software', 'what is software engineer', 'salary of software engineer', 'computer software engineer', 'salary for software engineer', 'computer engineer', 'senior software engineer salary', 'it software engineer', 'amazon software engineer', 'data engineer', 'software engineer average salary', 'what is a software engineer', 'linkedin', 'software engineer interview questions', 'software development engineer', 'software engineer salary in india']\n"
     ]
    }
   ],
   "source": [
    "#lets check what is mostly checked under software engineering\n",
    "keyword = 'software engineer'\n",
    "pytrends.build_payload(kw_list=[keyword])\n",
    "related_queries = pytrends.related_queries()\n",
    "df = pd.DataFrame(related_queries.get(keyword).get('top'))\n",
    "    \n",
    "print(list(df['query'][0:100]))"
   ]
  },
  {
   "cell_type": "code",
   "execution_count": 78,
   "metadata": {},
   "outputs": [
    {
     "name": "stdout",
     "output_type": "stream",
     "text": [
      "['data science course', 'what is science', 'what is data science', 'what is data', 'data science python', 'python', 'data science jobs', 'computer science', 'data analytics', 'data science masters', 'data science courses', 'machine learning', 'data scientist', 'master data science', 'data science salary', 'data science job', 'python for data science', 'masters in data science', 'data science degree', 'data analysis', 'statistics', 'big data', 'data analyst', 'ms data science', 'data science meaning']\n"
     ]
    }
   ],
   "source": [
    "#lets check what is mostly checked under data science\n",
    "keyword = 'data science'\n",
    "pytrends.build_payload(kw_list=[keyword])\n",
    "related_queries = pytrends.related_queries()\n",
    "df = pd.DataFrame(related_queries.get(keyword).get('top'))\n",
    "    \n",
    "print(list(df['query'][0:100]))"
   ]
  },
  {
   "cell_type": "code",
   "execution_count": 80,
   "metadata": {},
   "outputs": [
    {
     "name": "stdout",
     "output_type": "stream",
     "text": [
      "['kca university', 'portal kca', 'kca mexico', 'kca 2019', 'kca 2018', 'kca student portal', 'student portal', 'kca 2020', 'kca 2022', 'kca 2021', 'vote kca', 'kca deutag', 'kca nickelodeon', 'nickelodeon', 'kca awards', 'kca votar', 'kca t20', 'kcal', 'kca login', 'kca mexico 2020', 'kca live', 'kca mexico 2019', 'kca 2018 mexico', 'kca 2019 vote', 'kids choice awards']\n"
     ]
    }
   ],
   "source": [
    "university = 'KCA'\n",
    "pytrends.build_payload(kw_list=[university])\n",
    "related_queries = pytrends.related_queries()\n",
    "df = pd.DataFrame(related_queries.get(keyword).get('top'))\n",
    "    \n",
    "print(list(df['query'][0:100]))"
   ]
  },
  {
   "cell_type": "code",
   "execution_count": null,
   "metadata": {},
   "outputs": [],
   "source": []
  }
 ],
 "metadata": {
  "kernelspec": {
   "display_name": "Python 3 (ipykernel)",
   "language": "python",
   "name": "python3"
  },
  "language_info": {
   "codemirror_mode": {
    "name": "ipython",
    "version": 3
   },
   "file_extension": ".py",
   "mimetype": "text/x-python",
   "name": "python",
   "nbconvert_exporter": "python",
   "pygments_lexer": "ipython3",
   "version": "3.9.12"
  },
  "vscode": {
   "interpreter": {
    "hash": "a9cff5a362bc38ef45d817ae74b1af54d6a076e3d773891282bce078b815ba34"
   }
  }
 },
 "nbformat": 4,
 "nbformat_minor": 2
}
