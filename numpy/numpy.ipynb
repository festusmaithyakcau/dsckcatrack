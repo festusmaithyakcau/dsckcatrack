{
 "cells": [
  {
   "attachments": {},
   "cell_type": "markdown",
   "metadata": {},
   "source": [
    "NUMPY ESSENTIALS"
   ]
  },
  {
   "cell_type": "code",
   "execution_count": 95,
   "metadata": {},
   "outputs": [
    {
     "name": "stdout",
     "output_type": "stream",
     "text": [
      "Requirement already satisfied: numpy in c:\\users\\hp\\appdata\\local\\programs\\python\\python310\\lib\\site-packages (1.23.4)Note: you may need to restart the kernel to use updated packages.\n",
      "\n"
     ]
    }
   ],
   "source": [
    "pip install numpy"
   ]
  },
  {
   "cell_type": "code",
   "execution_count": 96,
   "metadata": {},
   "outputs": [
    {
     "name": "stdout",
     "output_type": "stream",
     "text": [
      "1.23.4\n"
     ]
    }
   ],
   "source": [
    "import numpy\n",
    "print (numpy.__version__)"
   ]
  },
  {
   "cell_type": "code",
   "execution_count": 97,
   "metadata": {},
   "outputs": [
    {
     "name": "stdout",
     "output_type": "stream",
     "text": [
      "5\n"
     ]
    }
   ],
   "source": [
    "import numpy as np\n",
    "a=np.array([[1,2,3],[4,5,6]])\n",
    "a.shape\n",
    "#indexing numpy arrays\n",
    "print(a[1,1])"
   ]
  },
  {
   "cell_type": "markdown",
   "metadata": {},
   "source": [
    "DATA-TYPE DESCRIPTORS"
   ]
  },
  {
   "cell_type": "code",
   "execution_count": 98,
   "metadata": {},
   "outputs": [
    {
     "name": "stdout",
     "output_type": "stream",
     "text": [
      "[[[ 0  1  2  3  4]\n",
      "  [ 5  6  7  8  9]\n",
      "  [10 11 12 13 14]\n",
      "  [15 16 17 18 19]]\n",
      "\n",
      " [[20 21 22 23 24]\n",
      "  [25 26 27 28 29]\n",
      "  [30 31 32 33 34]\n",
      "  [35 36 37 38 39]]\n",
      "\n",
      " [[40 41 42 43 44]\n",
      "  [45 46 47 48 49]\n",
      "  [50 51 52 53 54]\n",
      "  [55 56 57 58 59]]]\n"
     ]
    }
   ],
   "source": [
    "a =np.arange(60).reshape(3,4,5); \n",
    "print (a)"
   ]
  },
  {
   "attachments": {},
   "cell_type": "markdown",
   "metadata": {},
   "source": [
    "Universal functions for arrays"
   ]
  },
  {
   "cell_type": "code",
   "execution_count": 99,
   "metadata": {},
   "outputs": [
    {
     "name": "stdout",
     "output_type": "stream",
     "text": [
      "[6 7 8 9]\n",
      "[[ 72  78  84  90  96]\n",
      " [ 84  91  98 105 112]\n",
      " [ 96 104 112 120 128]\n",
      " [108 117 126 135 144]]\n"
     ]
    }
   ],
   "source": [
    "a = np.arange(6, 10); \n",
    "print (a)\n",
    "b = np.arange(12, 17);\n",
    "table = a[:,np.newaxis] * b\n",
    "print(table)"
   ]
  },
  {
   "attachments": {},
   "cell_type": "markdown",
   "metadata": {},
   "source": [
    "ndarray Methods"
   ]
  },
  {
   "cell_type": "code",
   "execution_count": 100,
   "metadata": {},
   "outputs": [
    {
     "name": "stdout",
     "output_type": "stream",
     "text": [
      "[[1, 2, 3], [4, 5, 6]]\n"
     ]
    }
   ],
   "source": [
    "#array conversion using tolist() method\n",
    "a =np.array([[1,2,3],[4,5,6]]);\n",
    "print(a.tolist())"
   ]
  },
  {
   "cell_type": "code",
   "execution_count": 101,
   "metadata": {},
   "outputs": [
    {
     "data": {
      "text/plain": [
       "int"
      ]
     },
     "execution_count": 101,
     "metadata": {},
     "output_type": "execute_result"
    }
   ],
   "source": [
    "#using item(*args) method\n",
    "a =np.array([[1,2,3],[4,5,6]]);\n",
    "asc = a[0,0].item()\n",
    "type(asc)"
   ]
  },
  {
   "cell_type": "code",
   "execution_count": 102,
   "metadata": {},
   "outputs": [
    {
     "name": "stdout",
     "output_type": "stream",
     "text": [
      "[[1 2 3]\n",
      " [4 5 6]]\n"
     ]
    }
   ],
   "source": [
    "#using tofile(file=,sep=\"\",format=\"\")\n",
    "a.tofile(file=\"myfile.txt\",sep=\":\",format=\"%03d\")\n",
    "print(a)\n"
   ]
  },
  {
   "cell_type": "code",
   "execution_count": 103,
   "metadata": {},
   "outputs": [
    {
     "name": "stdout",
     "output_type": "stream",
     "text": [
      "[[1 2 3]\n",
      " [4 5 6]]\n"
     ]
    }
   ],
   "source": [
    "#using the view() method\n",
    "print(a.view())"
   ]
  },
  {
   "cell_type": "code",
   "execution_count": 104,
   "metadata": {},
   "outputs": [
    {
     "data": {
      "text/plain": [
       "array([b'', b'', b''], dtype='|S2')"
      ]
     },
     "execution_count": 104,
     "metadata": {},
     "output_type": "execute_result"
    }
   ],
   "source": [
    "#using the getfield(dtypoe=\"\",offset=0)\n",
    "a = np.array([\"Hello\",\"World\",\"NumPy\"])\n",
    "a.getfield(\"S2\",1)\n"
   ]
  },
  {
   "cell_type": "code",
   "execution_count": 105,
   "metadata": {},
   "outputs": [
    {
     "name": "stdout",
     "output_type": "stream",
     "text": [
      "(2, 4, 5)\n",
      "(5, 2, 4)\n",
      "(80, 20, 4)\n",
      "(4, 80, 20)\n",
      "This is A\n",
      "[[[ 0  1  2  3  4]\n",
      "  [ 5  6  7  8  9]\n",
      "  [10 11 12 13 14]\n",
      "  [15 16 17 18 19]]\n",
      "\n",
      " [[20 21 22 23 24]\n",
      "  [25 26 27 28 29]\n",
      "  [30 31 32 33 34]\n",
      "  [35 36 37 38 39]]]\n",
      "This is B\n",
      "[[[ 0  5 10 15]\n",
      "  [20 25 30 35]]\n",
      "\n",
      " [[ 1  6 11 16]\n",
      "  [21 26 31 36]]\n",
      "\n",
      " [[ 2  7 12 17]\n",
      "  [22 27 32 37]]\n",
      "\n",
      " [[ 3  8 13 18]\n",
      "  [23 28 33 38]]\n",
      "\n",
      " [[ 4  9 14 19]\n",
      "  [24 29 34 39]]]\n"
     ]
    }
   ],
   "source": [
    "a = np.arange(40).reshape((2,4,5))\n",
    "b = a.transpose(2,0,1)\n",
    "print(a.shape)\n",
    "print(b.shape)\n",
    "\n",
    "print(a.strides)\n",
    "print(b.strides)\n",
    "print(\"This is A\")\n",
    "print(a)\n",
    "\n",
    "print(\"This is B\")\n",
    "print(b)"
   ]
  },
  {
   "attachments": {},
   "cell_type": "markdown",
   "metadata": {},
   "source": [
    "Array item selection and manipulation"
   ]
  },
  {
   "cell_type": "code",
   "execution_count": 106,
   "metadata": {},
   "outputs": [
    {
     "data": {
      "text/plain": [
       "array([ 0, 31, 22, 13])"
      ]
     },
     "execution_count": 106,
     "metadata": {},
     "output_type": "execute_result"
    }
   ],
   "source": [
    "#using choose(choices, out=None, mode=\"raise\") method\n",
    "a = np.array([0,3,2,1])\n",
    "a.choose([0,1,2,3],[10,11,12,13],[20,21,22,23],[30,31,32,33])"
   ]
  },
  {
   "cell_type": "code",
   "execution_count": 107,
   "metadata": {},
   "outputs": [
    {
     "name": "stdout",
     "output_type": "stream",
     "text": [
      "[[0.2 0.1 1.4]\n",
      " [1.5 1.3 2.5]]\n",
      "================\n",
      "[[0.2 1.3 2.5]\n",
      " [0.1 1.4 1.5]]\n"
     ]
    }
   ],
   "source": [
    "#using sort (axis=-1, kind=\"quick\", order=None) method\n",
    "a=np.array([[0.2,1.3,2.5],[1.5,0.1,1.4]]);\n",
    "b=a.copy();\n",
    "b.sort(0); \n",
    "print (b)\n",
    "print(\"================\")\n",
    "b=a.copy(); \n",
    "b.sort(1);\n",
    "print(b)"
   ]
  },
  {
   "cell_type": "code",
   "execution_count": 108,
   "metadata": {},
   "outputs": [
    {
     "name": "stdout",
     "output_type": "stream",
     "text": [
      "[[0 1 1]\n",
      " [1 0 0]]\n"
     ]
    }
   ],
   "source": [
    "#using argsort(axis=-1, kind=\"quick\", order=None) method\n",
    "a=np.array([[0.2,1.3,2.5],[1.5,0.1,1.4]]);\n",
    "b=a.copy();\n",
    "print(b.argsort(0))\n"
   ]
  },
  {
   "cell_type": "code",
   "execution_count": 109,
   "metadata": {},
   "outputs": [
    {
     "data": {
      "text/plain": [
       "array([0, 3, 5, 6], dtype=int64)"
      ]
     },
     "execution_count": 109,
     "metadata": {},
     "output_type": "execute_result"
    }
   ],
   "source": [
    "#using searchsorted(values, side=\"left\") method\n",
    "b=a.ravel(); b.sort()\n",
    "b.searchsorted([0.0, 1.35, 2.0, 3.0])"
   ]
  },
  {
   "cell_type": "code",
   "execution_count": 110,
   "metadata": {},
   "outputs": [
    {
     "data": {
      "text/plain": [
       "(array([1, 2, 2, 2, 2, 2], dtype=int64),\n",
       " array([4, 0, 1, 2, 3, 4], dtype=int64))"
      ]
     },
     "execution_count": 110,
     "metadata": {},
     "output_type": "execute_result"
    }
   ],
   "source": [
    "#using nonzero () method\n",
    "x =np.arange(15);\n",
    "y=x.reshape(3,5)\n",
    "(x>8).nonzero()\n",
    "(y>8).nonzero()"
   ]
  },
  {
   "cell_type": "code",
   "execution_count": 111,
   "metadata": {},
   "outputs": [
    {
     "name": "stdout",
     "output_type": "stream",
     "text": [
      "[3]\n"
     ]
    }
   ],
   "source": [
    "#using the compress (condition=, axis=None, out=None) method\n",
    "x=np.array([0,1,2,3])\n",
    "print(x.compress(x > 2))"
   ]
  },
  {
   "cell_type": "code",
   "execution_count": 112,
   "metadata": {},
   "outputs": [
    {
     "name": "stdout",
     "output_type": "stream",
     "text": [
      "[[ 0  1  2  3  4]\n",
      " [ 5  6  7  8  9]\n",
      " [10 11 12 13 14]\n",
      " [15 16 17 18 19]\n",
      " [20 21 22 23 24]]\n",
      "\n",
      "\n",
      "a.diagonal()\n",
      "[ 0  6 12 18 24]\n",
      "\n",
      "\n",
      "a.diagonal(1)\n",
      "[ 1  7 13 19]\n",
      "\n",
      "\n",
      "a.diagonal(-1)\n",
      "[ 5 11 17 23]\n"
     ]
    }
   ],
   "source": [
    "#using the diagonal (offset=0, axis1=0, axis2=1) method\n",
    "a=np.arange(25).reshape(5,5);\n",
    "print(a)\n",
    "print(\"\\n\")\n",
    "print(\"a.diagonal()\")\n",
    "print(a.diagonal())\n",
    "print(\"\\n\")\n",
    "print(\"a.diagonal(1)\")\n",
    "print(a.diagonal(1))\n",
    "print(\"\\n\")\n",
    "print(\"a.diagonal(-1)\")\n",
    "print (a.diagonal(-1))"
   ]
  }
 ],
 "metadata": {
  "kernelspec": {
   "display_name": "Python 3.10.5 64-bit",
   "language": "python",
   "name": "python3"
  },
  "language_info": {
   "codemirror_mode": {
    "name": "ipython",
    "version": 3
   },
   "file_extension": ".py",
   "mimetype": "text/x-python",
   "name": "python",
   "nbconvert_exporter": "python",
   "pygments_lexer": "ipython3",
   "version": "3.10.5"
  },
  "orig_nbformat": 4,
  "vscode": {
   "interpreter": {
    "hash": "a9cff5a362bc38ef45d817ae74b1af54d6a076e3d773891282bce078b815ba34"
   }
  }
 },
 "nbformat": 4,
 "nbformat_minor": 2
}
