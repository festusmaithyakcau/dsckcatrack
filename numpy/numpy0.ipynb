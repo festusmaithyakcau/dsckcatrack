{
 "cells": [
  {
   "attachments": {},
   "cell_type": "markdown",
   "metadata": {},
   "source": [
    "BASIC ROUTINES=>\n",
    "Creating arrays"
   ]
  },
  {
   "cell_type": "code",
   "execution_count": 13,
   "metadata": {},
   "outputs": [],
   "source": [
    "import numpy as np"
   ]
  },
  {
   "cell_type": "code",
   "execution_count": 14,
   "metadata": {},
   "outputs": [
    {
     "data": {
      "text/plain": [
       "array([[[0, 0, 0],\n",
       "        [1, 1, 1]],\n",
       "\n",
       "       [[0, 1, 2],\n",
       "        [0, 1, 2]]])"
      ]
     },
     "execution_count": 14,
     "metadata": {},
     "output_type": "execute_result"
    }
   ],
   "source": [
    "#using indices(dimensions, dtype=intp)indices (dimensions, dtype=intp) method \n",
    "np.indices((2,3))\n",
    "np.array([[[0, 0, 0],[1, 1, 1]],[[0, 1, 2],[0, 1, 2]]])"
   ]
  },
  {
   "cell_type": "code",
   "execution_count": 15,
   "metadata": {},
   "outputs": [
    {
     "name": "stdout",
     "output_type": "stream",
     "text": [
      "[[0. 1. 2.]\n",
      " [1. 2. 3.]]\n"
     ]
    }
   ],
   "source": [
    "#using fromfunction(function, dimensions, **kwargs) method\n",
    "print(np.fromfunction(lambda i,j: i+j, (2,3)))"
   ]
  },
  {
   "cell_type": "code",
   "execution_count": 16,
   "metadata": {},
   "outputs": [
    {
     "name": "stdout",
     "output_type": "stream",
     "text": [
      "[1 1 1 2 3 5]\n",
      "============\n",
      "[0 2 5 4 6 3]\n"
     ]
    }
   ],
   "source": [
    "#using lexsort (keys=, axis=-1) method\n",
    "a = [1,2,1,3,1,5];b = [0,4,5,6,2,3]\n",
    "ind = np.lexsort((b,a))\n",
    "print (np.take(a,ind))\n",
    "print(\"============\")\n",
    "print(np.take(b,ind))"
   ]
  },
  {
   "attachments": {},
   "cell_type": "markdown",
   "metadata": {},
   "source": [
    "Operation on two or more arrays"
   ]
  },
  {
   "attachments": {},
   "cell_type": "markdown",
   "metadata": {},
   "source": [
    "concatenate (seq=, axis=0)\n",
    "\n",
    "\n",
    "Construct a new array from elements of the sequence object seq concatenated\n",
    "along the given axis. The elements of the sequence object must have compatible types and be the same shape. If axis is None, then flatten each element\n",
    "of seq before concatenating together to construct a 1-d array"
   ]
  },
  {
   "cell_type": "code",
   "execution_count": 17,
   "metadata": {},
   "outputs": [
    {
     "name": "stdout",
     "output_type": "stream",
     "text": [
      "[[  10  100 1000]\n",
      " [  20  200 2000]\n",
      " [  30  300 3000]]\n"
     ]
    }
   ],
   "source": [
    "#using outer(a, b) method\n",
    "#compute an outerproduct which is syntactic sugar for a.ravel() [:,newaxis] *b.ravel() [newaxis,:] (after first converting a and b to ndarrays).\n",
    "print(np.outer([1,2,3],[10,100,1000]))"
   ]
  },
  {
   "cell_type": "markdown",
   "metadata": {},
   "source": [
    "Printing arrays"
   ]
  },
  {
   "cell_type": "markdown",
   "metadata": {},
   "source": [
    "array2string (a)\n",
    "\n",
    "\n",
    "The default printing mechanism uses this function to produce a string from an\n",
    "array"
   ]
  },
  {
   "attachments": {},
   "cell_type": "markdown",
   "metadata": {},
   "source": [
    "set printoptions (precision=None, theshold=None, edgeitems=None,\n",
    "linewidth=None, suppress=None)"
   ]
  },
  {
   "attachments": {},
   "cell_type": "markdown",
   "metadata": {},
   "source": [
    "Set options associated with representing an array.\n",
    "\n",
    "\n",
    "precision the default number of digits of precision for floating point output\n",
    "(default 8);\n",
    "threshold total number of array elements which triggers printing only the\n",
    "“ends” of the array rather than a full representation (default 1000);\n",
    "edgeitems number of array elements in summary at beginning and end of\n",
    "each dimension (default 3);\n",
    "linewidth the number of characters per line (default 75);\n",
    "suppress Boolean value indicating whether or not to suppress printing of\n",
    "small floating point values using scientific notation (default False)."
   ]
  },
  {
   "attachments": {},
   "cell_type": "markdown",
   "metadata": {},
   "source": [
    "get printoptions()\n",
    "\n",
    "\n",
    "Returns the values of precision, threshold, edgeitems, linewidth, and suppress\n",
    "that control printing of arrays.\n"
   ]
  },
  {
   "attachments": {},
   "cell_type": "markdown",
   "metadata": {},
   "source": [
    "set string function (func, repr=1)\n",
    "\n",
    "\n",
    "Set the function to use in response to str(array) or repr(array). By default this\n",
    "function is array2string. The function passed in must take an array argument\n",
    "and return a string. If func is None, then the print function is reset to a simple\n",
    "internal function."
   ]
  },
  {
   "attachments": {},
   "cell_type": "markdown",
   "metadata": {},
   "source": [
    "ADDITIONAL CONVENIENCE ROUTINES"
   ]
  },
  {
   "cell_type": "code",
   "execution_count": 18,
   "metadata": {},
   "outputs": [
    {
     "name": "stdout",
     "output_type": "stream",
     "text": [
      "[  5   6   7  50  60  70 500 600 700]\n",
      "======================================\n",
      "[[   2    3   20   30]\n",
      " [   4    5   40   50]\n",
      " [ 200  300 2000 3000]\n",
      " [ 400  500 4000 5000]]\n"
     ]
    }
   ],
   "source": [
    "#using kron(a, b) method to return a composite array with blocks from b scaled by elements of a\n",
    "print(np.kron([1,10,100],[5,6,7]))\n",
    "print(\"======================================\")\n",
    "print(np.kron([[1,10],[100,1000]],[[2,3],[4,5]]))\n"
   ]
  },
  {
   "cell_type": "code",
   "execution_count": 19,
   "metadata": {},
   "outputs": [
    {
     "data": {
      "text/plain": [
       "array([[[5, 6, 7, 5, 6, 7, 5, 6, 7],\n",
       "        [5, 6, 7, 5, 6, 7, 5, 6, 7]]])"
      ]
     },
     "execution_count": 19,
     "metadata": {},
     "output_type": "execute_result"
    }
   ],
   "source": [
    "#usingh tile (a, reps) method\n",
    "#Tile an N-dimensional array using the shape information in reps to create a larger N-dimensional array\n",
    "np.tile([5,6,7],(1,2,3))"
   ]
  },
  {
   "attachments": {},
   "cell_type": "markdown",
   "metadata": {},
   "source": [
    "Basic functions"
   ]
  },
  {
   "attachments": {},
   "cell_type": "markdown",
   "metadata": {},
   "source": [
    "average (a, axis=None, weights=None, returned=0)\n",
    "\n",
    "\n",
    "Computes the average along the indicated axis"
   ]
  },
  {
   "attachments": {},
   "cell_type": "markdown",
   "metadata": {},
   "source": [
    "cov (x, y=None, rowvar=1, bias=0)\n",
    "\n",
    "\n",
    "Computes the covariance matrix of data in x."
   ]
  },
  {
   "attachments": {},
   "cell_type": "markdown",
   "metadata": {},
   "source": [
    "corrcoef (x, y=None, rowvar=1, bias=0)\n",
    "\n",
    "\n",
    "Estimate the correlation coefficient of x."
   ]
  },
  {
   "attachments": {},
   "cell_type": "markdown",
   "metadata": {},
   "source": [
    "msort (a)\n",
    "\n",
    "\n",
    "Return a new array, sorted along the first axis. Equivalent to b=a.copy();\n",
    "b.sort(0)"
   ]
  },
  {
   "attachments": {},
   "cell_type": "markdown",
   "metadata": {},
   "source": [
    "median (m)\n",
    "\n",
    "\n",
    "Returns the median of m along its first dimension."
   ]
  },
  {
   "attachments": {},
   "cell_type": "markdown",
   "metadata": {},
   "source": [
    "histogram (x=, bins=None, range=None, normed=0)\n",
    "\n",
    "\n",
    "Construct a histogram for the data in x (treated as one-dimensional array of type\n",
    "float)."
   ]
  },
  {
   "attachments": {},
   "cell_type": "markdown",
   "metadata": {},
   "source": [
    "histogram2d (x, y, bins=10, range=None, normed=False)\n",
    "\n",
    "\n",
    "Compute the two-dimensional histogram for a dataset (x,y) given the bins"
   ]
  },
  {
   "attachments": {},
   "cell_type": "markdown",
   "metadata": {},
   "source": [
    "histogramdd (sample, bins=10, range=None, normed=False)\n",
    "\n",
    "\n",
    "Compute the D-dimensional histogram for a (vector) dataset contained in sample\n",
    "give the bins."
   ]
  },
  {
   "attachments": {},
   "cell_type": "markdown",
   "metadata": {},
   "source": [
    "logspace (start, stop, num=50, endpoint=True,base=10.0)\n",
    "\n",
    "\n",
    "Evenly spaced samples on a logarithmic scale."
   ]
  },
  {
   "attachments": {},
   "cell_type": "markdown",
   "metadata": {},
   "source": [
    "linspace (start, stop, num=50, endpoint=True, retstep=False):\n",
    "\n",
    "\n",
    "Evenly spaced samples. Returns num evenly spaced samples from start to stop. If\n",
    "endpoint is True, then the last sample is stop. If retstep is True, then return\n",
    "the computed step size"
   ]
  },
  {
   "cell_type": "code",
   "execution_count": 20,
   "metadata": {},
   "outputs": [
    {
     "name": "stdout",
     "output_type": "stream",
     "text": [
      "[[1 2 3]\n",
      " [1 2 3]\n",
      " [1 2 3]\n",
      " [1 2 3]]\n",
      "[[4 4 4]\n",
      " [5 5 5]\n",
      " [6 6 6]\n",
      " [7 7 7]]\n"
     ]
    }
   ],
   "source": [
    "#using meshgrid(x, y) method\n",
    "# Returns num evenly spaced samples from start to stop. If endpoint is True, then the last sample is stop. If retstep is True, then return the computed step size\n",
    "import numpy as np\n",
    "X,Y =np.meshgrid([1,2,3], [4,5,6,7]);print(X); print(Y)"
   ]
  },
  {
   "cell_type": "code",
   "execution_count": 21,
   "metadata": {},
   "outputs": [
    {
     "name": "stdout",
     "output_type": "stream",
     "text": [
      "[0.     0.     8.687  5.8615 3.59   1.8726 0.7091 0.0997 1.0443 1.5429\n",
      " 2.5956 4.2022 6.3629 9.0776 1.     1.     1.     1.     1.     1.    ]\n"
     ]
    }
   ],
   "source": [
    "#using piecewise(x, condlist, funclist, *args, **kwargs) method to Compute a piecewise-defined function.\n",
    "f1 = lambda x: x*x\n",
    "x = np.r_[-4:6:20j]\n",
    "y = np.piecewise(x,abs(x)<=3,[f1,0])+np.piecewise(x,x>=0,[1,0])\n",
    "np.set_printoptions(precision=4); print(y)"
   ]
  },
  {
   "attachments": {},
   "cell_type": "markdown",
   "metadata": {},
   "source": [
    "trim zeros (filt, trim=’fb’):\n",
    "\n",
    "\n",
    "Trim the leading (’f’ in trim) and trailing (’b’ in trim) zeros from a sequence\n",
    "according to the trim keyword"
   ]
  },
  {
   "cell_type": "code",
   "execution_count": 22,
   "metadata": {},
   "outputs": [
    {
     "data": {
      "text/plain": [
       "array([[6, 3, 4],\n",
       "       [6, 6, 9]])"
      ]
     },
     "execution_count": 22,
     "metadata": {},
     "output_type": "execute_result"
    }
   ],
   "source": [
    "#using vectorize(pyfunc, otypes=None, doc=None)\n",
    "#This creates a class whose instances have a call method that invokes a ufunc that has been dynamically built to call the python function pyfunc internally.\n",
    "def myfunc(a,b):\n",
    "    if(a>b): return a\n",
    "    else: return b-1\n",
    "vecfunc = np.vectorize(myfunc)\n",
    "vecfunc([[1,2,3],[5,6,9]],[7,4,5])"
   ]
  },
  {
   "attachments": {},
   "cell_type": "markdown",
   "metadata": {},
   "source": [
    "POLYNOIMIAL FUNCTIONS"
   ]
  },
  {
   "attachments": {},
   "cell_type": "markdown",
   "metadata": {},
   "source": [
    "poly1d (c or r, r=0)\n",
    "\n",
    "\n",
    ".r roots of the polynomial\n",
    "\n",
    ".o order of the polynomial\n",
    "\n",
    ".c polynomial coefficients as an array (also array () )\n",
    "\n",
    "__call__(x) evaluate the polynomial at x (can be an array)\n",
    "\n",
    "__getitem__(x) p[k] returns the coefficient on the kth power of x (backwards\n",
    "from indexing the coefficient array)"
   ]
  },
  {
   "cell_type": "code",
   "execution_count": 23,
   "metadata": {},
   "outputs": [
    {
     "name": "stdout",
     "output_type": "stream",
     "text": [
      "   2\n",
      "2 x + 5 x + 7\n"
     ]
    }
   ],
   "source": [
    "#using poly1d (c or r, r=0)\n",
    "#This construction returns an instance of a simple polynomial class\n",
    "p=np.poly1d([2,5,7])\n",
    "print(p)"
   ]
  },
  {
   "attachments": {},
   "cell_type": "markdown",
   "metadata": {},
   "source": [
    "polyint (poly, m=1, k=None)\n",
    "\n",
    "Return an exact mth-order integral of the polynomial represented in poly\n"
   ]
  },
  {
   "cell_type": "code",
   "execution_count": 24,
   "metadata": {},
   "outputs": [
    {
     "name": "stdout",
     "output_type": "stream",
     "text": [
      "[0.0833 0.5    2.     5.     3.    ]\n"
     ]
    }
   ],
   "source": [
    "print(np.polyint([1,3,4],m=2,k=[5,3]))"
   ]
  },
  {
   "attachments": {},
   "cell_type": "markdown",
   "metadata": {},
   "source": [
    "polyder (poly, m)\n",
    "\n",
    "Return an exact mth-order derivative of the polynomial represented in poly. Also\n",
    "available as .deriv(m=1) method of poly1d objects."
   ]
  },
  {
   "cell_type": "code",
   "execution_count": 25,
   "metadata": {},
   "outputs": [
    {
     "data": {
      "text/plain": [
       "array([3, 4, 4])"
      ]
     },
     "execution_count": 25,
     "metadata": {},
     "output_type": "execute_result"
    }
   ],
   "source": [
    "np.polyder([1,2,4,3])"
   ]
  },
  {
   "attachments": {},
   "cell_type": "markdown",
   "metadata": {},
   "source": [
    "polyadd (p1, p2)\n",
    "\n",
    "Add the two polynomials represented by coefficients: p1 (x) + p2 (x)"
   ]
  },
  {
   "attachments": {},
   "cell_type": "markdown",
   "metadata": {},
   "source": [
    "polysub (p1, p2)\n",
    "\n",
    "Return coefficients for the polynomial found by subtracting the two polynomials\n",
    "represented by p1 and p2: p1 (x) − p2 (x)"
   ]
  },
  {
   "attachments": {},
   "cell_type": "markdown",
   "metadata": {},
   "source": [
    "polymul (p1, p2)\n",
    "\n",
    "Return the coefficients for p1 (x) p2 (x)\n"
   ]
  },
  {
   "attachments": {},
   "cell_type": "markdown",
   "metadata": {},
   "source": [
    "polydiv (p1, p2)\n",
    "\n",
    "Return the quotient, q (x), and remainder, r (x), so that p1 (x) = q (x) p2 (x) +\n",
    "r (x), with the order of r (x) less than the order of p2 (x)"
   ]
  },
  {
   "attachments": {},
   "cell_type": "markdown",
   "metadata": {},
   "source": [
    "polyval (p, y)\n",
    "\n",
    "Evaluate the polynomial p at y."
   ]
  },
  {
   "attachments": {},
   "cell_type": "markdown",
   "metadata": {},
   "source": [
    "polyfit (x,y,N)\n",
    "\n",
    "Compute a best-fit polynomial in x of order N,"
   ]
  }
 ],
 "metadata": {
  "kernelspec": {
   "display_name": "Python 3.10.5 64-bit",
   "language": "python",
   "name": "python3"
  },
  "language_info": {
   "codemirror_mode": {
    "name": "ipython",
    "version": 3
   },
   "file_extension": ".py",
   "mimetype": "text/x-python",
   "name": "python",
   "nbconvert_exporter": "python",
   "pygments_lexer": "ipython3",
   "version": "3.10.5"
  },
  "orig_nbformat": 4,
  "vscode": {
   "interpreter": {
    "hash": "a9cff5a362bc38ef45d817ae74b1af54d6a076e3d773891282bce078b815ba34"
   }
  }
 },
 "nbformat": 4,
 "nbformat_minor": 2
}
