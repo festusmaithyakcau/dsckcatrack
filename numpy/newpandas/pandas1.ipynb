{
 "cells": [
  {
   "cell_type": "code",
   "execution_count": 3,
   "metadata": {},
   "outputs": [],
   "source": [
    "import pandas as pd\n",
    "import numpy as np\n"
   ]
  },
  {
   "cell_type": "markdown",
   "metadata": {},
   "source": [
    "\n",
    "Boolean Indexing in Data Frame "
   ]
  },
  {
   "cell_type": "code",
   "execution_count": 12,
   "metadata": {},
   "outputs": [
    {
     "name": "stdout",
     "output_type": "stream",
     "text": [
      "        Name  Age\n",
      "True  Sachin   22\n",
      "True     Edu   54\n",
      "Result of iloc method:::::::\n",
      "Name    Dan\n",
      "Age      43\n",
      "Name: False, dtype: object\n"
     ]
    }
   ],
   "source": [
    "dic={\n",
    "    \"Name\":[\"Sachin\",\"Dan\",\"Edu\"],\n",
    "    \"Age\":[22,43,54]\n",
    "}\n",
    "df=pd.DataFrame(dic,index=[True,False,True])\n",
    "#To Return Data frame where index is True\n",
    "print(df.loc[True])\n",
    "print(\"Result of iloc method:::::::\")\n",
    "print(df.iloc[1])"
   ]
  },
  {
   "attachments": {},
   "cell_type": "markdown",
   "metadata": {},
   "source": [
    "pd.concat(objs, axis=0, join='outer', join_axes=None,ignore_index=False)"
   ]
  },
  {
   "cell_type": "markdown",
   "metadata": {},
   "source": [
    "Concat operation in data frame"
   ]
  },
  {
   "attachments": {},
   "cell_type": "markdown",
   "metadata": {},
   "source": [
    "•objs − This is a sequence or mapping of Series, DataFrame, or \n",
    "Panel objects.\n",
    "\n",
    "• axis − {0, 1, ...}, default 0. This is the axis to concatenate along.\n",
    "\n",
    "• join − {‘inner’, ‘outer’}, default ‘outer’. How to handle indexes on \n",
    "other axis(es). Outer for union and inner for intersection.\n",
    "\n",
    "• ignore_index − boolean, default False. If True, do not use the \n",
    "index values on the concatenation axis. The resulting axis will be \n",
    "labeled 0, ..., n - 1.\n",
    "\n",
    "• join_axes − This is the list of Index objects. Specific indexes to \n",
    "use for the other (n-1) axes instead of performing inner/outer \n",
    "set logic.\n"
   ]
  },
  {
   "cell_type": "code",
   "execution_count": 20,
   "metadata": {},
   "outputs": [
    {
     "name": "stdout",
     "output_type": "stream",
     "text": [
      "========================\n",
      "========================\n",
      "  id Value1 Value2\n",
      "0  1      A      B\n",
      "1  2      C      D\n",
      "2  3      E      F\n",
      "3  4      G      H\n",
      "4  5      I      J\n",
      "0  2      K      L\n",
      "1  3      M      N\n",
      "2  6      O      P\n",
      "3  7      Q      R\n",
      "4  8      S      T\n"
     ]
    }
   ],
   "source": [
    "dic1= { 'id': [\"1\",\"2\",\"3\",\"4\",\"5\"],\n",
    "       \"Value1\": [\"A\", \"C\", \"E\", \"G\",\"I\"], \n",
    "        \"Value2\": [\"B\",\"D\",\"F\",\"H\",\"J\"]}\n",
    "\n",
    "dic2= {\"id\": [\"2\", \"3\", \"6\",\"7\",\"8\"],\"Value1\":[\"K\", \"M\", \"O\", \"Q\",\"S\"], \n",
    "       \"Value2\": [\"L\",\"N\",\"P\",\"R\",\"T\"]}\n",
    "df1=pd.DataFrame(dic1)\n",
    "df2=pd.DataFrame(dic2)\n",
    "df3=pd.concat([df1,df2])\n",
    "print(df3)"
   ]
  },
  {
   "cell_type": "code",
   "execution_count": 23,
   "metadata": {},
   "outputs": [
    {
     "name": "stdout",
     "output_type": "stream",
     "text": [
      "  id Value1 Value2\n",
      "0  1      A      B\n",
      "1  2      C      D\n",
      "2  3      E      F\n",
      "3  4      G      H\n",
      "4  5      I      J\n",
      "5  2      K      L\n",
      "6  3      M      N\n",
      "7  6      O      P\n",
      "8  7      Q      R\n",
      "9  8      S      T\n"
     ]
    }
   ],
   "source": [
    "dic1= { 'id': [\"1\",\"2\",\"3\",\"4\",\"5\"],\n",
    "       \"Value1\": [\"A\", \"C\", \"E\", \"G\",\"I\"], \n",
    "        \"Value2\": [\"B\",\"D\",\"F\",\"H\",\"J\"]}\n",
    "\n",
    "dic2= {\"id\": [\"2\", \"3\", \"6\",\"7\",\"8\"],\"Value1\":[\"K\", \"M\", \"O\", \"Q\",\"S\"], \n",
    "       \"Value2\": [\"L\",\"N\",\"P\",\"R\",\"T\"]}\n",
    "df1=pd.DataFrame(dic1)\n",
    "df2=pd.DataFrame(dic2)\n",
    "#if you want the row labels to adjust automatically according to the join,\n",
    "#you will have to set the argument ignore_index as True while calling the concat() function \n",
    "df3=pd.concat([df1,df2],ignore_index=True)\n",
    "print(df3)"
   ]
  },
  {
   "cell_type": "code",
   "execution_count": 25,
   "metadata": {},
   "outputs": [
    {
     "name": "stdout",
     "output_type": "stream",
     "text": [
      "  id Value1 Value2 id Value1 Value2\n",
      "0  1      A      B  2      K      L\n",
      "1  2      C      D  3      M      N\n",
      "2  3      E      F  6      O      P\n",
      "3  4      G      H  7      Q      R\n",
      "4  5      I      J  8      S      T\n"
     ]
    }
   ],
   "source": [
    "dic1= { 'id': [\"1\",\"2\",\"3\",\"4\",\"5\"],\n",
    "       \"Value1\": [\"A\", \"C\", \"E\", \"G\",\"I\"], \n",
    "        \"Value2\": [\"B\",\"D\",\"F\",\"H\",\"J\"]}\n",
    "\n",
    "dic2= {\"id\": [\"2\", \"3\", \"6\",\"7\",\"8\"],\"Value1\":[\"K\", \"M\", \"O\", \"Q\",\"S\"], \n",
    "       \"Value2\": [\"L\",\"N\",\"P\",\"R\",\"T\"]}\n",
    "df1=pd.DataFrame(dic1)\n",
    "df2=pd.DataFrame(dic2)\n",
    "#to concatenate dataframes along columns,you cabn specify the axis parameter as 1\n",
    "df3=pd.concat([df1,df2],axis=1)\n",
    "print(df3)"
   ]
  },
  {
   "attachments": {},
   "cell_type": "markdown",
   "metadata": {},
   "source": [
    "MERGE Operation"
   ]
  },
  {
   "cell_type": "code",
   "execution_count": 28,
   "metadata": {},
   "outputs": [
    {
     "name": "stdout",
     "output_type": "stream",
     "text": [
      "  id Value1 Value2  Value3\n",
      "0  1      A      B      12\n",
      "1  2      C      D      13\n",
      "2  2      K      L      13\n",
      "3  3      E      F      14\n",
      "4  3      M      N      14\n",
      "5  4      G      H      15\n",
      "6  5      I      J      16\n",
      "7  6      O      P      17\n",
      "8  7      Q      R      15\n",
      "9  8      S      T      12\n"
     ]
    }
   ],
   "source": [
    "dic1= {\n",
    "    'id': [\"1\",\"2\",\"3\",\"4\",\"5\"],\n",
    "    \"Value1\": [\"A\", \"C\", \"E\", \"G\",\"I\"], \n",
    "    \"Value2\": [\"B\",\"D\",\"F\",\"H\",\"J\"]\n",
    "        }\n",
    "\n",
    "dic2= {\n",
    "    \"id\": [\"2\", \"3\", \"6\",\"7\",\"8\"],\n",
    "    \"Value1\":[\"K\", \"M\", \"O\", \"Q\",\"S\"], \n",
    "    \"Value2\": [\"L\",\"N\",\"P\",\"R\",\"T\"]\n",
    "       }\n",
    "\n",
    "dic3={\n",
    "    \"id\":[\"1\",\"2\",\"3\",\"4\",\"5\",\"6\",\"7\",\"8\",\"9\",\"10\",\"11\"],\n",
    "    \"Value3\":[12,13,14,15,16,17,15,12,13,23,13]\n",
    "}\n",
    "df1=pd.DataFrame(dic1)\n",
    "df2=pd.DataFrame(dic2)\n",
    "df3=pd.concat([df1,df2])\n",
    "df4=pd.DataFrame(dic3)\n",
    "df5=pd.merge(df3,df4,on=\"id\")#This will give the common rows between the two data frames for the corresponding column values (‘id’).\n",
    "print(df5)"
   ]
  },
  {
   "cell_type": "code",
   "execution_count": null,
   "metadata": {},
   "outputs": [],
   "source": [
    "dic1= {\n",
    "    'id': [\"1\",\"2\",\"3\",\"4\",\"5\"],\n",
    "    \"Value1\": [\"A\", \"C\", \"E\", \"G\",\"I\"], \n",
    "    \"Value2\": [\"B\",\"D\",\"F\",\"H\",\"J\"]\n",
    "        }\n",
    "\n",
    "dic2= {\n",
    "    \"id\": [\"2\", \"3\", \"6\",\"7\",\"8\"],\n",
    "    \"Value1\":[\"K\", \"M\", \"O\", \"Q\",\"S\"], \n",
    "    \"Value2\": [\"L\",\"N\",\"P\",\"R\",\"T\"]\n",
    "       }\n",
    "\n",
    "dic3={\n",
    "    \"id\":[\"1\",\"2\",\"3\",\"4\",\"5\",\"6\",\"7\",\"8\",\"9\",\"10\",\"11\"],\n",
    "    \"Value3\":[12,13,14,15,16,17,15,12,13,23,13]\n",
    "}\n",
    "df1=pd.DataFrame(dic1)\n",
    "df2=pd.DataFrame(dic2)\n",
    "df3=pd.concat([df1,df2])\n",
    "df4=pd.DataFrame(dic3)\n",
    "#It might happen that the column on which \n",
    "#you want to merge the Data Frames have \n",
    "#different names (unlike in this case). For \n",
    "#such merges, you will have to specify the \n",
    "#arguments left_on as the left DataFrame \n",
    "#name and right_on as the right DataFrame \n",
    "#name.\n",
    "\n",
    "\n",
    "df5=pd.merge(df3,df4,on=\"id\",right_on=\"id\")\n",
    "print(df5)"
   ]
  },
  {
   "attachments": {},
   "cell_type": "markdown",
   "metadata": {},
   "source": [
    "Join operation in data frame "
   ]
  },
  {
   "cell_type": "markdown",
   "metadata": {},
   "source": [
    "Full Outer Join:- The full outer join combines the results of \n",
    "both the left and the right outer joins. The joined data frame will \n",
    "contain all records from both the data frames and fill in NaNs for \n",
    "missing matches on either side. You can perform a full outer join by \n",
    "specifying the how argument as outer in merge() function."
   ]
  },
  {
   "cell_type": "code",
   "execution_count": 29,
   "metadata": {},
   "outputs": [
    {
     "name": "stdout",
     "output_type": "stream",
     "text": [
      "  id Value1_x Value2_x Value1_y Value2_y\n",
      "0  1        A        B      NaN      NaN\n",
      "1  2        C        D        K        L\n",
      "2  3        E        F        M        N\n",
      "3  4        G        H      NaN      NaN\n",
      "4  5        I        J      NaN      NaN\n",
      "5  6      NaN      NaN        O        P\n",
      "6  7      NaN      NaN        Q        R\n",
      "7  8      NaN      NaN        S        T\n"
     ]
    }
   ],
   "source": [
    "dic1= { 'id': [\"1\",\"2\",\"3\",\"4\",\"5\"],\n",
    "       \"Value1\": [\"A\", \"C\", \"E\", \"G\",\"I\"], \n",
    "        \"Value2\": [\"B\",\"D\",\"F\",\"H\",\"J\"]}\n",
    "\n",
    "dic2= {\"id\": [\"2\", \"3\", \"6\",\"7\",\"8\"],\"Value1\":[\"K\", \"M\", \"O\", \"Q\",\"S\"], \n",
    "       \"Value2\": [\"L\",\"N\",\"P\",\"R\",\"T\"]}\n",
    "df1=pd.DataFrame(dic1)\n",
    "df2=pd.DataFrame(dic2)\n",
    "df3=pd.merge(df1,df2,on=\"id\",how=\"outer\")\n",
    "print(df3)\n",
    "#The resulting DataFrame had all \n",
    "#the entries from both the tables \n",
    "#with NaN values for missing \n",
    "#matches on either side. However, \n",
    "#one more thing to notice is the \n",
    "#suffix which got appended to the \n",
    "#column names to show which column \n",
    "#came from which DataFrame. The \n",
    "#default suffixes are x and y, \n",
    "#however, you can modify them by \n",
    "#specifying the suffixes argument \n",
    "#in the merge() function.\n"
   ]
  },
  {
   "cell_type": "code",
   "execution_count": 31,
   "metadata": {},
   "outputs": [
    {
     "name": "stdout",
     "output_type": "stream",
     "text": [
      "  id Value1left Value2left Value1_right Value2_right\n",
      "0  1          A          B          NaN          NaN\n",
      "1  2          C          D            K            L\n",
      "2  3          E          F            M            N\n",
      "3  4          G          H          NaN          NaN\n",
      "4  5          I          J          NaN          NaN\n",
      "5  6        NaN        NaN            O            P\n",
      "6  7        NaN        NaN            Q            R\n",
      "7  8        NaN        NaN            S            T\n"
     ]
    }
   ],
   "source": [
    "dic1= { 'id': [\"1\",\"2\",\"3\",\"4\",\"5\"],\n",
    "       \"Value1\": [\"A\", \"C\", \"E\", \"G\",\"I\"], \n",
    "        \"Value2\": [\"B\",\"D\",\"F\",\"H\",\"J\"]}\n",
    "\n",
    "dic2= {\"id\": [\"2\", \"3\", \"6\",\"7\",\"8\"],\"Value1\":[\"K\", \"M\", \"O\", \"Q\",\"S\"], \n",
    "       \"Value2\": [\"L\",\"N\",\"P\",\"R\",\"T\"]}\n",
    "df1=pd.DataFrame(dic1)\n",
    "df2=pd.DataFrame(dic2)\n",
    "df3=pd.merge(df1,df2,on=\"id\",how=\"outer\",suffixes=(\"left\",\"_right\"))\n",
    "print(df3)\n"
   ]
  },
  {
   "attachments": {},
   "cell_type": "markdown",
   "metadata": {},
   "source": [
    "Inner Join :- The inner join produce only those records that \n",
    "match in both the data frame. You have to pass inner in how argument \n",
    "inside merge() function."
   ]
  },
  {
   "cell_type": "code",
   "execution_count": 32,
   "metadata": {},
   "outputs": [
    {
     "name": "stdout",
     "output_type": "stream",
     "text": [
      "  id Value1_x Value2_x Value1_y Value2_y\n",
      "0  2        C        D        K        L\n",
      "1  3        E        F        M        N\n"
     ]
    }
   ],
   "source": [
    "dic1= { 'id': [\"1\",\"2\",\"3\",\"4\",\"5\"],\n",
    "       \"Value1\": [\"A\", \"C\", \"E\", \"G\",\"I\"], \n",
    "        \"Value2\": [\"B\",\"D\",\"F\",\"H\",\"J\"]}\n",
    "\n",
    "dic2= {\"id\": [\"2\", \"3\", \"6\",\"7\",\"8\"],\"Value1\":[\"K\", \"M\", \"O\", \"Q\",\"S\"], \n",
    "       \"Value2\": [\"L\",\"N\",\"P\",\"R\",\"T\"]}\n",
    "df1=pd.DataFrame(dic1)\n",
    "df2=pd.DataFrame(dic2)\n",
    "df3=pd.merge(df1,df2,on=\"id\",how=\"inner\")\n",
    "print(df3)"
   ]
  },
  {
   "cell_type": "markdown",
   "metadata": {},
   "source": [
    "RightJoin :-The right join produce a complete set of records \n",
    "from data frame B(Right side Data Frame) with the matching records \n",
    "(where available) in data frame A( Left side data frame). If there is no \n",
    "match right side will contain null. You have to pass right in how \n",
    "argument inside merge() function.\n"
   ]
  },
  {
   "cell_type": "code",
   "execution_count": 33,
   "metadata": {},
   "outputs": [
    {
     "name": "stdout",
     "output_type": "stream",
     "text": [
      "  id Value1_x Value2_x Value1_y Value2_y\n",
      "0  2        C        D        K        L\n",
      "1  3        E        F        M        N\n",
      "2  6      NaN      NaN        O        P\n",
      "3  7      NaN      NaN        Q        R\n",
      "4  8      NaN      NaN        S        T\n"
     ]
    }
   ],
   "source": [
    "dic1= { 'id': [\"1\",\"2\",\"3\",\"4\",\"5\"],\n",
    "       \"Value1\": [\"A\", \"C\", \"E\", \"G\",\"I\"], \n",
    "        \"Value2\": [\"B\",\"D\",\"F\",\"H\",\"J\"]}\n",
    "\n",
    "dic2= {\"id\": [\"2\", \"3\", \"6\",\"7\",\"8\"],\"Value1\":[\"K\", \"M\", \"O\", \"Q\",\"S\"], \n",
    "       \"Value2\": [\"L\",\"N\",\"P\",\"R\",\"T\"]}\n",
    "df1=pd.DataFrame(dic1)\n",
    "df2=pd.DataFrame(dic2)\n",
    "df3=pd.merge(df1,df2,on=\"id\",how=\"right\")\n",
    "print(df3)"
   ]
  },
  {
   "cell_type": "markdown",
   "metadata": {},
   "source": [
    "Left Join :- The left join produce a complete set of records \n",
    "from data frame A(Left side Data Frame) with the matching records \n",
    "(where available) in data frame B( Right side data frame). If there is \n",
    "no match left side will contain null. You have to pass left in how \n",
    "argument inside merge() function."
   ]
  },
  {
   "cell_type": "code",
   "execution_count": 34,
   "metadata": {},
   "outputs": [
    {
     "name": "stdout",
     "output_type": "stream",
     "text": [
      "  id Value1_x Value2_x Value1_y Value2_y\n",
      "0  1        A        B      NaN      NaN\n",
      "1  2        C        D        K        L\n",
      "2  3        E        F        M        N\n",
      "3  4        G        H      NaN      NaN\n",
      "4  5        I        J      NaN      NaN\n"
     ]
    }
   ],
   "source": [
    "dic1= { 'id': [\"1\",\"2\",\"3\",\"4\",\"5\"],\n",
    "       \"Value1\": [\"A\", \"C\", \"E\", \"G\",\"I\"], \n",
    "        \"Value2\": [\"B\",\"D\",\"F\",\"H\",\"J\"]}\n",
    "\n",
    "dic2= {\"id\": [\"2\", \"3\", \"6\",\"7\",\"8\"],\"Value1\":[\"K\", \"M\", \"O\", \"Q\",\"S\"], \n",
    "       \"Value2\": [\"L\",\"N\",\"P\",\"R\",\"T\"]}\n",
    "df1=pd.DataFrame(dic1)\n",
    "df2=pd.DataFrame(dic2)\n",
    "df3=pd.merge(df1,df2,on=\"id\",how=\"left\")\n",
    "print(df3)"
   ]
  },
  {
   "attachments": {},
   "cell_type": "markdown",
   "metadata": {},
   "source": [
    "Joining on Index :-Sometimes you have to perform the join on \n",
    "the indexes or the row labels. For that you have to specify \n",
    "right_index( for the indexes of the right data frame ) and left_index( \n",
    "for the indexes of left data frame) as True.\n"
   ]
  },
  {
   "cell_type": "code",
   "execution_count": 35,
   "metadata": {},
   "outputs": [
    {
     "name": "stdout",
     "output_type": "stream",
     "text": [
      "  id_x Value1_x Value2_x id_y Value1_y Value2_y\n",
      "0    1        A        B    2        K        L\n",
      "1    2        C        D    3        M        N\n",
      "2    3        E        F    6        O        P\n",
      "3    4        G        H    7        Q        R\n",
      "4    5        I        J    8        S        T\n"
     ]
    }
   ],
   "source": [
    "dic1= { 'id': [\"1\",\"2\",\"3\",\"4\",\"5\"],\n",
    "       \"Value1\": [\"A\", \"C\", \"E\", \"G\",\"I\"], \n",
    "        \"Value2\": [\"B\",\"D\",\"F\",\"H\",\"J\"]}\n",
    "\n",
    "dic2= {\"id\": [\"2\", \"3\", \"6\",\"7\",\"8\"],\"Value1\":[\"K\", \"M\", \"O\", \"Q\",\"S\"], \n",
    "       \"Value2\": [\"L\",\"N\",\"P\",\"R\",\"T\"]}\n",
    "df1=pd.DataFrame(dic1)\n",
    "df2=pd.DataFrame(dic2)\n",
    "df3=pd.merge(df1,df2,right_index=True,left_index=True)\n",
    "print(df3)"
   ]
  }
 ],
 "metadata": {
  "kernelspec": {
   "display_name": "Python 3.10.5 64-bit",
   "language": "python",
   "name": "python3"
  },
  "language_info": {
   "codemirror_mode": {
    "name": "ipython",
    "version": 3
   },
   "file_extension": ".py",
   "mimetype": "text/x-python",
   "name": "python",
   "nbconvert_exporter": "python",
   "pygments_lexer": "ipython3",
   "version": "3.10.5"
  },
  "orig_nbformat": 4,
  "vscode": {
   "interpreter": {
    "hash": "a9cff5a362bc38ef45d817ae74b1af54d6a076e3d773891282bce078b815ba34"
   }
  }
 },
 "nbformat": 4,
 "nbformat_minor": 2
}
