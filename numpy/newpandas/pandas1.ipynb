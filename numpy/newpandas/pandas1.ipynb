{
 "cells": [
  {
   "cell_type": "code",
   "execution_count": 3,
   "metadata": {},
   "outputs": [],
   "source": [
    "import pandas as pd\n",
    "import numpy as np\n"
   ]
  },
  {
   "cell_type": "markdown",
   "metadata": {},
   "source": [
    "\n",
    "Boolean Indexing in Data Frame "
   ]
  },
  {
   "cell_type": "code",
   "execution_count": 12,
   "metadata": {},
   "outputs": [
    {
     "name": "stdout",
     "output_type": "stream",
     "text": [
      "        Name  Age\n",
      "True  Sachin   22\n",
      "True     Edu   54\n",
      "Result of iloc method:::::::\n",
      "Name    Dan\n",
      "Age      43\n",
      "Name: False, dtype: object\n"
     ]
    }
   ],
   "source": [
    "dic={\n",
    "    \"Name\":[\"Sachin\",\"Dan\",\"Edu\"],\n",
    "    \"Age\":[22,43,54]\n",
    "}\n",
    "df=pd.DataFrame(dic,index=[True,False,True])\n",
    "#To Return Data frame where index is True\n",
    "print(df.loc[True])\n",
    "print(\"Result of iloc method:::::::\")\n",
    "print(df.iloc[1])"
   ]
  },
  {
   "attachments": {},
   "cell_type": "markdown",
   "metadata": {},
   "source": [
    "pd.concat(objs, axis=0, join='outer', join_axes=None,ignore_index=False)"
   ]
  },
  {
   "cell_type": "markdown",
   "metadata": {},
   "source": [
    "Concat operation in data frame"
   ]
  },
  {
   "attachments": {},
   "cell_type": "markdown",
   "metadata": {},
   "source": [
    "•objs − This is a sequence or mapping of Series, DataFrame, or \n",
    "Panel objects.\n",
    "\n",
    "• axis − {0, 1, ...}, default 0. This is the axis to concatenate along.\n",
    "\n",
    "• join − {‘inner’, ‘outer’}, default ‘outer’. How to handle indexes on \n",
    "other axis(es). Outer for union and inner for intersection.\n",
    "\n",
    "• ignore_index − boolean, default False. If True, do not use the \n",
    "index values on the concatenation axis. The resulting axis will be \n",
    "labeled 0, ..., n - 1.\n",
    "\n",
    "• join_axes − This is the list of Index objects. Specific indexes to \n",
    "use for the other (n-1) axes instead of performing inner/outer \n",
    "set logic.\n"
   ]
  },
  {
   "cell_type": "code",
   "execution_count": 20,
   "metadata": {},
   "outputs": [
    {
     "name": "stdout",
     "output_type": "stream",
     "text": [
      "========================\n",
      "========================\n",
      "  id Value1 Value2\n",
      "0  1      A      B\n",
      "1  2      C      D\n",
      "2  3      E      F\n",
      "3  4      G      H\n",
      "4  5      I      J\n",
      "0  2      K      L\n",
      "1  3      M      N\n",
      "2  6      O      P\n",
      "3  7      Q      R\n",
      "4  8      S      T\n"
     ]
    }
   ],
   "source": [
    "dic1= { 'id': [\"1\",\"2\",\"3\",\"4\",\"5\"],\n",
    "       \"Value1\": [\"A\", \"C\", \"E\", \"G\",\"I\"], \n",
    "        \"Value2\": [\"B\",\"D\",\"F\",\"H\",\"J\"]}\n",
    "\n",
    "dic2= {\"id\": [\"2\", \"3\", \"6\",\"7\",\"8\"],\"Value1\":[\"K\", \"M\", \"O\", \"Q\",\"S\"], \n",
    "       \"Value2\": [\"L\",\"N\",\"P\",\"R\",\"T\"]}\n",
    "df1=pd.DataFrame(dic1)\n",
    "df2=pd.DataFrame(dic2)\n",
    "df3=pd.concat([df1,df2])\n",
    "print(df3)"
   ]
  },
  {
   "cell_type": "code",
   "execution_count": 23,
   "metadata": {},
   "outputs": [
    {
     "name": "stdout",
     "output_type": "stream",
     "text": [
      "  id Value1 Value2\n",
      "0  1      A      B\n",
      "1  2      C      D\n",
      "2  3      E      F\n",
      "3  4      G      H\n",
      "4  5      I      J\n",
      "5  2      K      L\n",
      "6  3      M      N\n",
      "7  6      O      P\n",
      "8  7      Q      R\n",
      "9  8      S      T\n"
     ]
    }
   ],
   "source": [
    "dic1= { 'id': [\"1\",\"2\",\"3\",\"4\",\"5\"],\n",
    "       \"Value1\": [\"A\", \"C\", \"E\", \"G\",\"I\"], \n",
    "        \"Value2\": [\"B\",\"D\",\"F\",\"H\",\"J\"]}\n",
    "\n",
    "dic2= {\"id\": [\"2\", \"3\", \"6\",\"7\",\"8\"],\"Value1\":[\"K\", \"M\", \"O\", \"Q\",\"S\"], \n",
    "       \"Value2\": [\"L\",\"N\",\"P\",\"R\",\"T\"]}\n",
    "df1=pd.DataFrame(dic1)\n",
    "df2=pd.DataFrame(dic2)\n",
    "#if you want the row labels to adjust automatically according to the join,\n",
    "#you will have to set the argument ignore_index as True while calling the concat() function \n",
    "df3=pd.concat([df1,df2],ignore_index=True)\n",
    "print(df3)"
   ]
  },
  {
   "cell_type": "code",
   "execution_count": 25,
   "metadata": {},
   "outputs": [
    {
     "name": "stdout",
     "output_type": "stream",
     "text": [
      "  id Value1 Value2 id Value1 Value2\n",
      "0  1      A      B  2      K      L\n",
      "1  2      C      D  3      M      N\n",
      "2  3      E      F  6      O      P\n",
      "3  4      G      H  7      Q      R\n",
      "4  5      I      J  8      S      T\n"
     ]
    }
   ],
   "source": [
    "dic1= { 'id': [\"1\",\"2\",\"3\",\"4\",\"5\"],\n",
    "       \"Value1\": [\"A\", \"C\", \"E\", \"G\",\"I\"], \n",
    "        \"Value2\": [\"B\",\"D\",\"F\",\"H\",\"J\"]}\n",
    "\n",
    "dic2= {\"id\": [\"2\", \"3\", \"6\",\"7\",\"8\"],\"Value1\":[\"K\", \"M\", \"O\", \"Q\",\"S\"], \n",
    "       \"Value2\": [\"L\",\"N\",\"P\",\"R\",\"T\"]}\n",
    "df1=pd.DataFrame(dic1)\n",
    "df2=pd.DataFrame(dic2)\n",
    "#to concatenate dataframes along columns,you cabn specify the axis parameter as 1\n",
    "df3=pd.concat([df1,df2],axis=1)\n",
    "print(df3)"
   ]
  }
 ],
 "metadata": {
  "kernelspec": {
   "display_name": "Python 3.10.5 64-bit",
   "language": "python",
   "name": "python3"
  },
  "language_info": {
   "codemirror_mode": {
    "name": "ipython",
    "version": 3
   },
   "file_extension": ".py",
   "mimetype": "text/x-python",
   "name": "python",
   "nbconvert_exporter": "python",
   "pygments_lexer": "ipython3",
   "version": "3.10.5"
  },
  "orig_nbformat": 4,
  "vscode": {
   "interpreter": {
    "hash": "a9cff5a362bc38ef45d817ae74b1af54d6a076e3d773891282bce078b815ba34"
   }
  }
 },
 "nbformat": 4,
 "nbformat_minor": 2
}
