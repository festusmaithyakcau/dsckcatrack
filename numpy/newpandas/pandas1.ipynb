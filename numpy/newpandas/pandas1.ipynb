{
 "cells": [
  {
   "cell_type": "code",
   "execution_count": 3,
   "metadata": {},
   "outputs": [],
   "source": [
    "import pandas as pd\n",
    "import numpy as np\n"
   ]
  },
  {
   "cell_type": "markdown",
   "metadata": {},
   "source": [
    "\n",
    "Boolean Indexing in Data Frame "
   ]
  },
  {
   "cell_type": "code",
   "execution_count": 12,
   "metadata": {},
   "outputs": [
    {
     "name": "stdout",
     "output_type": "stream",
     "text": [
      "        Name  Age\n",
      "True  Sachin   22\n",
      "True     Edu   54\n",
      "Result of iloc method:::::::\n",
      "Name    Dan\n",
      "Age      43\n",
      "Name: False, dtype: object\n"
     ]
    }
   ],
   "source": [
    "dic={\n",
    "    \"Name\":[\"Sachin\",\"Dan\",\"Edu\"],\n",
    "    \"Age\":[22,43,54]\n",
    "}\n",
    "df=pd.DataFrame(dic,index=[True,False,True])\n",
    "#To Return Data frame where index is True\n",
    "print(df.loc[True])\n",
    "print(\"Result of iloc method:::::::\")\n",
    "print(df.iloc[1])"
   ]
  },
  {
   "cell_type": "markdown",
   "metadata": {},
   "source": [
    "Concat operation in data frame"
   ]
  }
 ],
 "metadata": {
  "kernelspec": {
   "display_name": "Python 3.10.5 64-bit",
   "language": "python",
   "name": "python3"
  },
  "language_info": {
   "codemirror_mode": {
    "name": "ipython",
    "version": 3
   },
   "file_extension": ".py",
   "mimetype": "text/x-python",
   "name": "python",
   "nbconvert_exporter": "python",
   "pygments_lexer": "ipython3",
   "version": "3.10.5"
  },
  "orig_nbformat": 4,
  "vscode": {
   "interpreter": {
    "hash": "a9cff5a362bc38ef45d817ae74b1af54d6a076e3d773891282bce078b815ba34"
   }
  }
 },
 "nbformat": 4,
 "nbformat_minor": 2
}
